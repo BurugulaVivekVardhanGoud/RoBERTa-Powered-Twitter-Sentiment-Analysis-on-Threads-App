{
  "nbformat": 4,
  "nbformat_minor": 0,
  "metadata": {
    "colab": {
      "provenance": [],
      "gpuType": "T4"
    },
    "kernelspec": {
      "name": "python3",
      "display_name": "Python 3"
    },
    "language_info": {
      "name": "python"
    },
    "widgets": {
      "application/vnd.jupyter.widget-state+json": {
        "aed0e42f418e40668e83629b9dfdb0c8": {
          "model_module": "@jupyter-widgets/controls",
          "model_name": "HBoxModel",
          "model_module_version": "1.5.0",
          "state": {
            "_dom_classes": [],
            "_model_module": "@jupyter-widgets/controls",
            "_model_module_version": "1.5.0",
            "_model_name": "HBoxModel",
            "_view_count": null,
            "_view_module": "@jupyter-widgets/controls",
            "_view_module_version": "1.5.0",
            "_view_name": "HBoxView",
            "box_style": "",
            "children": [
              "IPY_MODEL_74d2dfb2ae3c47a68e4483fee8570755",
              "IPY_MODEL_ccde36e09357476bb73f7b43a01b2e09",
              "IPY_MODEL_a8bd94cceeba469bbc2895c625892021"
            ],
            "layout": "IPY_MODEL_a6f41f869c294d48b87cad6f8e16b8fd"
          }
        },
        "74d2dfb2ae3c47a68e4483fee8570755": {
          "model_module": "@jupyter-widgets/controls",
          "model_name": "HTMLModel",
          "model_module_version": "1.5.0",
          "state": {
            "_dom_classes": [],
            "_model_module": "@jupyter-widgets/controls",
            "_model_module_version": "1.5.0",
            "_model_name": "HTMLModel",
            "_view_count": null,
            "_view_module": "@jupyter-widgets/controls",
            "_view_module_version": "1.5.0",
            "_view_name": "HTMLView",
            "description": "",
            "description_tooltip": null,
            "layout": "IPY_MODEL_7b9e02c216d64878b52a4e63d3f90ee4",
            "placeholder": "​",
            "style": "IPY_MODEL_d420d5e1949e4b80aa5482f78a6e0733",
            "value": "100%"
          }
        },
        "ccde36e09357476bb73f7b43a01b2e09": {
          "model_module": "@jupyter-widgets/controls",
          "model_name": "FloatProgressModel",
          "model_module_version": "1.5.0",
          "state": {
            "_dom_classes": [],
            "_model_module": "@jupyter-widgets/controls",
            "_model_module_version": "1.5.0",
            "_model_name": "FloatProgressModel",
            "_view_count": null,
            "_view_module": "@jupyter-widgets/controls",
            "_view_module_version": "1.5.0",
            "_view_name": "ProgressView",
            "bar_style": "success",
            "description": "",
            "description_tooltip": null,
            "layout": "IPY_MODEL_ebe7d89257e74860a2e320157f46bbf3",
            "max": 100,
            "min": 0,
            "orientation": "horizontal",
            "style": "IPY_MODEL_e8261d376fd0407bb142ba369650c588",
            "value": 100
          }
        },
        "a8bd94cceeba469bbc2895c625892021": {
          "model_module": "@jupyter-widgets/controls",
          "model_name": "HTMLModel",
          "model_module_version": "1.5.0",
          "state": {
            "_dom_classes": [],
            "_model_module": "@jupyter-widgets/controls",
            "_model_module_version": "1.5.0",
            "_model_name": "HTMLModel",
            "_view_count": null,
            "_view_module": "@jupyter-widgets/controls",
            "_view_module_version": "1.5.0",
            "_view_name": "HTMLView",
            "description": "",
            "description_tooltip": null,
            "layout": "IPY_MODEL_50a3a44afb964c35a3b66ae6b0ddaea4",
            "placeholder": "​",
            "style": "IPY_MODEL_f82c7d5d400c44c9a9267dc8605cf23e",
            "value": " 100/100 [00:00&lt;00:00, 1471.18it/s]"
          }
        },
        "a6f41f869c294d48b87cad6f8e16b8fd": {
          "model_module": "@jupyter-widgets/base",
          "model_name": "LayoutModel",
          "model_module_version": "1.2.0",
          "state": {
            "_model_module": "@jupyter-widgets/base",
            "_model_module_version": "1.2.0",
            "_model_name": "LayoutModel",
            "_view_count": null,
            "_view_module": "@jupyter-widgets/base",
            "_view_module_version": "1.2.0",
            "_view_name": "LayoutView",
            "align_content": null,
            "align_items": null,
            "align_self": null,
            "border": null,
            "bottom": null,
            "display": null,
            "flex": null,
            "flex_flow": null,
            "grid_area": null,
            "grid_auto_columns": null,
            "grid_auto_flow": null,
            "grid_auto_rows": null,
            "grid_column": null,
            "grid_gap": null,
            "grid_row": null,
            "grid_template_areas": null,
            "grid_template_columns": null,
            "grid_template_rows": null,
            "height": null,
            "justify_content": null,
            "justify_items": null,
            "left": null,
            "margin": null,
            "max_height": null,
            "max_width": null,
            "min_height": null,
            "min_width": null,
            "object_fit": null,
            "object_position": null,
            "order": null,
            "overflow": null,
            "overflow_x": null,
            "overflow_y": null,
            "padding": null,
            "right": null,
            "top": null,
            "visibility": null,
            "width": null
          }
        },
        "7b9e02c216d64878b52a4e63d3f90ee4": {
          "model_module": "@jupyter-widgets/base",
          "model_name": "LayoutModel",
          "model_module_version": "1.2.0",
          "state": {
            "_model_module": "@jupyter-widgets/base",
            "_model_module_version": "1.2.0",
            "_model_name": "LayoutModel",
            "_view_count": null,
            "_view_module": "@jupyter-widgets/base",
            "_view_module_version": "1.2.0",
            "_view_name": "LayoutView",
            "align_content": null,
            "align_items": null,
            "align_self": null,
            "border": null,
            "bottom": null,
            "display": null,
            "flex": null,
            "flex_flow": null,
            "grid_area": null,
            "grid_auto_columns": null,
            "grid_auto_flow": null,
            "grid_auto_rows": null,
            "grid_column": null,
            "grid_gap": null,
            "grid_row": null,
            "grid_template_areas": null,
            "grid_template_columns": null,
            "grid_template_rows": null,
            "height": null,
            "justify_content": null,
            "justify_items": null,
            "left": null,
            "margin": null,
            "max_height": null,
            "max_width": null,
            "min_height": null,
            "min_width": null,
            "object_fit": null,
            "object_position": null,
            "order": null,
            "overflow": null,
            "overflow_x": null,
            "overflow_y": null,
            "padding": null,
            "right": null,
            "top": null,
            "visibility": null,
            "width": null
          }
        },
        "d420d5e1949e4b80aa5482f78a6e0733": {
          "model_module": "@jupyter-widgets/controls",
          "model_name": "DescriptionStyleModel",
          "model_module_version": "1.5.0",
          "state": {
            "_model_module": "@jupyter-widgets/controls",
            "_model_module_version": "1.5.0",
            "_model_name": "DescriptionStyleModel",
            "_view_count": null,
            "_view_module": "@jupyter-widgets/base",
            "_view_module_version": "1.2.0",
            "_view_name": "StyleView",
            "description_width": ""
          }
        },
        "ebe7d89257e74860a2e320157f46bbf3": {
          "model_module": "@jupyter-widgets/base",
          "model_name": "LayoutModel",
          "model_module_version": "1.2.0",
          "state": {
            "_model_module": "@jupyter-widgets/base",
            "_model_module_version": "1.2.0",
            "_model_name": "LayoutModel",
            "_view_count": null,
            "_view_module": "@jupyter-widgets/base",
            "_view_module_version": "1.2.0",
            "_view_name": "LayoutView",
            "align_content": null,
            "align_items": null,
            "align_self": null,
            "border": null,
            "bottom": null,
            "display": null,
            "flex": null,
            "flex_flow": null,
            "grid_area": null,
            "grid_auto_columns": null,
            "grid_auto_flow": null,
            "grid_auto_rows": null,
            "grid_column": null,
            "grid_gap": null,
            "grid_row": null,
            "grid_template_areas": null,
            "grid_template_columns": null,
            "grid_template_rows": null,
            "height": null,
            "justify_content": null,
            "justify_items": null,
            "left": null,
            "margin": null,
            "max_height": null,
            "max_width": null,
            "min_height": null,
            "min_width": null,
            "object_fit": null,
            "object_position": null,
            "order": null,
            "overflow": null,
            "overflow_x": null,
            "overflow_y": null,
            "padding": null,
            "right": null,
            "top": null,
            "visibility": null,
            "width": null
          }
        },
        "e8261d376fd0407bb142ba369650c588": {
          "model_module": "@jupyter-widgets/controls",
          "model_name": "ProgressStyleModel",
          "model_module_version": "1.5.0",
          "state": {
            "_model_module": "@jupyter-widgets/controls",
            "_model_module_version": "1.5.0",
            "_model_name": "ProgressStyleModel",
            "_view_count": null,
            "_view_module": "@jupyter-widgets/base",
            "_view_module_version": "1.2.0",
            "_view_name": "StyleView",
            "bar_color": null,
            "description_width": ""
          }
        },
        "50a3a44afb964c35a3b66ae6b0ddaea4": {
          "model_module": "@jupyter-widgets/base",
          "model_name": "LayoutModel",
          "model_module_version": "1.2.0",
          "state": {
            "_model_module": "@jupyter-widgets/base",
            "_model_module_version": "1.2.0",
            "_model_name": "LayoutModel",
            "_view_count": null,
            "_view_module": "@jupyter-widgets/base",
            "_view_module_version": "1.2.0",
            "_view_name": "LayoutView",
            "align_content": null,
            "align_items": null,
            "align_self": null,
            "border": null,
            "bottom": null,
            "display": null,
            "flex": null,
            "flex_flow": null,
            "grid_area": null,
            "grid_auto_columns": null,
            "grid_auto_flow": null,
            "grid_auto_rows": null,
            "grid_column": null,
            "grid_gap": null,
            "grid_row": null,
            "grid_template_areas": null,
            "grid_template_columns": null,
            "grid_template_rows": null,
            "height": null,
            "justify_content": null,
            "justify_items": null,
            "left": null,
            "margin": null,
            "max_height": null,
            "max_width": null,
            "min_height": null,
            "min_width": null,
            "object_fit": null,
            "object_position": null,
            "order": null,
            "overflow": null,
            "overflow_x": null,
            "overflow_y": null,
            "padding": null,
            "right": null,
            "top": null,
            "visibility": null,
            "width": null
          }
        },
        "f82c7d5d400c44c9a9267dc8605cf23e": {
          "model_module": "@jupyter-widgets/controls",
          "model_name": "DescriptionStyleModel",
          "model_module_version": "1.5.0",
          "state": {
            "_model_module": "@jupyter-widgets/controls",
            "_model_module_version": "1.5.0",
            "_model_name": "DescriptionStyleModel",
            "_view_count": null,
            "_view_module": "@jupyter-widgets/base",
            "_view_module_version": "1.2.0",
            "_view_name": "StyleView",
            "description_width": ""
          }
        },
        "a608e3dbf4fb4ece9b4c71b3d8a6fe4a": {
          "model_module": "@jupyter-widgets/controls",
          "model_name": "HBoxModel",
          "model_module_version": "1.5.0",
          "state": {
            "_dom_classes": [],
            "_model_module": "@jupyter-widgets/controls",
            "_model_module_version": "1.5.0",
            "_model_name": "HBoxModel",
            "_view_count": null,
            "_view_module": "@jupyter-widgets/controls",
            "_view_module_version": "1.5.0",
            "_view_name": "HBoxView",
            "box_style": "",
            "children": [
              "IPY_MODEL_2aee6e9a1c4d4c199ba1da2230bbd422",
              "IPY_MODEL_fa978194110a495b8df74940b362be2f",
              "IPY_MODEL_effa7eed0ae34f69957202db2004652c"
            ],
            "layout": "IPY_MODEL_8f6e8f1687ee434ab218a5768b999ed7"
          }
        },
        "2aee6e9a1c4d4c199ba1da2230bbd422": {
          "model_module": "@jupyter-widgets/controls",
          "model_name": "HTMLModel",
          "model_module_version": "1.5.0",
          "state": {
            "_dom_classes": [],
            "_model_module": "@jupyter-widgets/controls",
            "_model_module_version": "1.5.0",
            "_model_name": "HTMLModel",
            "_view_count": null,
            "_view_module": "@jupyter-widgets/controls",
            "_view_module_version": "1.5.0",
            "_view_name": "HTMLView",
            "description": "",
            "description_tooltip": null,
            "layout": "IPY_MODEL_17d6408ce59b44ba92f68c85f14c6fed",
            "placeholder": "​",
            "style": "IPY_MODEL_ff7f8fbd57b14135b91a94529ca16f0b",
            "value": "100%"
          }
        },
        "fa978194110a495b8df74940b362be2f": {
          "model_module": "@jupyter-widgets/controls",
          "model_name": "FloatProgressModel",
          "model_module_version": "1.5.0",
          "state": {
            "_dom_classes": [],
            "_model_module": "@jupyter-widgets/controls",
            "_model_module_version": "1.5.0",
            "_model_name": "FloatProgressModel",
            "_view_count": null,
            "_view_module": "@jupyter-widgets/controls",
            "_view_module_version": "1.5.0",
            "_view_name": "ProgressView",
            "bar_style": "success",
            "description": "",
            "description_tooltip": null,
            "layout": "IPY_MODEL_057d2c69fd744ea09bf8561436f994ff",
            "max": 100,
            "min": 0,
            "orientation": "horizontal",
            "style": "IPY_MODEL_427d064097cf498d81482b4b121c3d57",
            "value": 100
          }
        },
        "effa7eed0ae34f69957202db2004652c": {
          "model_module": "@jupyter-widgets/controls",
          "model_name": "HTMLModel",
          "model_module_version": "1.5.0",
          "state": {
            "_dom_classes": [],
            "_model_module": "@jupyter-widgets/controls",
            "_model_module_version": "1.5.0",
            "_model_name": "HTMLModel",
            "_view_count": null,
            "_view_module": "@jupyter-widgets/controls",
            "_view_module_version": "1.5.0",
            "_view_name": "HTMLView",
            "description": "",
            "description_tooltip": null,
            "layout": "IPY_MODEL_54288173037344ef92d8fb061ad544f1",
            "placeholder": "​",
            "style": "IPY_MODEL_47aa4435313342619c9337af9ff2e8ba",
            "value": " 100/100 [00:16&lt;00:00,  9.06it/s]"
          }
        },
        "8f6e8f1687ee434ab218a5768b999ed7": {
          "model_module": "@jupyter-widgets/base",
          "model_name": "LayoutModel",
          "model_module_version": "1.2.0",
          "state": {
            "_model_module": "@jupyter-widgets/base",
            "_model_module_version": "1.2.0",
            "_model_name": "LayoutModel",
            "_view_count": null,
            "_view_module": "@jupyter-widgets/base",
            "_view_module_version": "1.2.0",
            "_view_name": "LayoutView",
            "align_content": null,
            "align_items": null,
            "align_self": null,
            "border": null,
            "bottom": null,
            "display": null,
            "flex": null,
            "flex_flow": null,
            "grid_area": null,
            "grid_auto_columns": null,
            "grid_auto_flow": null,
            "grid_auto_rows": null,
            "grid_column": null,
            "grid_gap": null,
            "grid_row": null,
            "grid_template_areas": null,
            "grid_template_columns": null,
            "grid_template_rows": null,
            "height": null,
            "justify_content": null,
            "justify_items": null,
            "left": null,
            "margin": null,
            "max_height": null,
            "max_width": null,
            "min_height": null,
            "min_width": null,
            "object_fit": null,
            "object_position": null,
            "order": null,
            "overflow": null,
            "overflow_x": null,
            "overflow_y": null,
            "padding": null,
            "right": null,
            "top": null,
            "visibility": null,
            "width": null
          }
        },
        "17d6408ce59b44ba92f68c85f14c6fed": {
          "model_module": "@jupyter-widgets/base",
          "model_name": "LayoutModel",
          "model_module_version": "1.2.0",
          "state": {
            "_model_module": "@jupyter-widgets/base",
            "_model_module_version": "1.2.0",
            "_model_name": "LayoutModel",
            "_view_count": null,
            "_view_module": "@jupyter-widgets/base",
            "_view_module_version": "1.2.0",
            "_view_name": "LayoutView",
            "align_content": null,
            "align_items": null,
            "align_self": null,
            "border": null,
            "bottom": null,
            "display": null,
            "flex": null,
            "flex_flow": null,
            "grid_area": null,
            "grid_auto_columns": null,
            "grid_auto_flow": null,
            "grid_auto_rows": null,
            "grid_column": null,
            "grid_gap": null,
            "grid_row": null,
            "grid_template_areas": null,
            "grid_template_columns": null,
            "grid_template_rows": null,
            "height": null,
            "justify_content": null,
            "justify_items": null,
            "left": null,
            "margin": null,
            "max_height": null,
            "max_width": null,
            "min_height": null,
            "min_width": null,
            "object_fit": null,
            "object_position": null,
            "order": null,
            "overflow": null,
            "overflow_x": null,
            "overflow_y": null,
            "padding": null,
            "right": null,
            "top": null,
            "visibility": null,
            "width": null
          }
        },
        "ff7f8fbd57b14135b91a94529ca16f0b": {
          "model_module": "@jupyter-widgets/controls",
          "model_name": "DescriptionStyleModel",
          "model_module_version": "1.5.0",
          "state": {
            "_model_module": "@jupyter-widgets/controls",
            "_model_module_version": "1.5.0",
            "_model_name": "DescriptionStyleModel",
            "_view_count": null,
            "_view_module": "@jupyter-widgets/base",
            "_view_module_version": "1.2.0",
            "_view_name": "StyleView",
            "description_width": ""
          }
        },
        "057d2c69fd744ea09bf8561436f994ff": {
          "model_module": "@jupyter-widgets/base",
          "model_name": "LayoutModel",
          "model_module_version": "1.2.0",
          "state": {
            "_model_module": "@jupyter-widgets/base",
            "_model_module_version": "1.2.0",
            "_model_name": "LayoutModel",
            "_view_count": null,
            "_view_module": "@jupyter-widgets/base",
            "_view_module_version": "1.2.0",
            "_view_name": "LayoutView",
            "align_content": null,
            "align_items": null,
            "align_self": null,
            "border": null,
            "bottom": null,
            "display": null,
            "flex": null,
            "flex_flow": null,
            "grid_area": null,
            "grid_auto_columns": null,
            "grid_auto_flow": null,
            "grid_auto_rows": null,
            "grid_column": null,
            "grid_gap": null,
            "grid_row": null,
            "grid_template_areas": null,
            "grid_template_columns": null,
            "grid_template_rows": null,
            "height": null,
            "justify_content": null,
            "justify_items": null,
            "left": null,
            "margin": null,
            "max_height": null,
            "max_width": null,
            "min_height": null,
            "min_width": null,
            "object_fit": null,
            "object_position": null,
            "order": null,
            "overflow": null,
            "overflow_x": null,
            "overflow_y": null,
            "padding": null,
            "right": null,
            "top": null,
            "visibility": null,
            "width": null
          }
        },
        "427d064097cf498d81482b4b121c3d57": {
          "model_module": "@jupyter-widgets/controls",
          "model_name": "ProgressStyleModel",
          "model_module_version": "1.5.0",
          "state": {
            "_model_module": "@jupyter-widgets/controls",
            "_model_module_version": "1.5.0",
            "_model_name": "ProgressStyleModel",
            "_view_count": null,
            "_view_module": "@jupyter-widgets/base",
            "_view_module_version": "1.2.0",
            "_view_name": "StyleView",
            "bar_color": null,
            "description_width": ""
          }
        },
        "54288173037344ef92d8fb061ad544f1": {
          "model_module": "@jupyter-widgets/base",
          "model_name": "LayoutModel",
          "model_module_version": "1.2.0",
          "state": {
            "_model_module": "@jupyter-widgets/base",
            "_model_module_version": "1.2.0",
            "_model_name": "LayoutModel",
            "_view_count": null,
            "_view_module": "@jupyter-widgets/base",
            "_view_module_version": "1.2.0",
            "_view_name": "LayoutView",
            "align_content": null,
            "align_items": null,
            "align_self": null,
            "border": null,
            "bottom": null,
            "display": null,
            "flex": null,
            "flex_flow": null,
            "grid_area": null,
            "grid_auto_columns": null,
            "grid_auto_flow": null,
            "grid_auto_rows": null,
            "grid_column": null,
            "grid_gap": null,
            "grid_row": null,
            "grid_template_areas": null,
            "grid_template_columns": null,
            "grid_template_rows": null,
            "height": null,
            "justify_content": null,
            "justify_items": null,
            "left": null,
            "margin": null,
            "max_height": null,
            "max_width": null,
            "min_height": null,
            "min_width": null,
            "object_fit": null,
            "object_position": null,
            "order": null,
            "overflow": null,
            "overflow_x": null,
            "overflow_y": null,
            "padding": null,
            "right": null,
            "top": null,
            "visibility": null,
            "width": null
          }
        },
        "47aa4435313342619c9337af9ff2e8ba": {
          "model_module": "@jupyter-widgets/controls",
          "model_name": "DescriptionStyleModel",
          "model_module_version": "1.5.0",
          "state": {
            "_model_module": "@jupyter-widgets/controls",
            "_model_module_version": "1.5.0",
            "_model_name": "DescriptionStyleModel",
            "_view_count": null,
            "_view_module": "@jupyter-widgets/base",
            "_view_module_version": "1.2.0",
            "_view_name": "StyleView",
            "description_width": ""
          }
        }
      }
    }
  },
  "cells": [
    {
      "cell_type": "markdown",
      "source": [
        "# Sentiment Analysis in Python\n",
        "\n",
        "In this notebook we will be doing some sentiment analysis in python using two different techniques:\n",
        "\n",
        "VADER (Valence Aware Dictionary and sEntiment Reasoner) - Bag of words approach\n",
        "Roberta Pretrained Model from Huggingface Pipeline"
      ],
      "metadata": {
        "id": "b0Zfp4tcMuZB"
      }
    },
    {
      "cell_type": "markdown",
      "source": [
        "# Step 0. Read in Data and NLTK Basics"
      ],
      "metadata": {
        "id": "xa-KGbQEM2yA"
      }
    },
    {
      "cell_type": "code",
      "source": [
        "import pandas as pd                             # 8 Processors 2.2 GHz\n",
        "import numpy as np\n",
        "import matplotlib.pyplot as plt\n",
        "import seaborn as sns\n",
        "\n",
        "plt.style.use('ggplot')\n",
        "\n",
        "import nltk"
      ],
      "metadata": {
        "id": "kc1tRgDjM34u"
      },
      "execution_count": 87,
      "outputs": []
    },
    {
      "cell_type": "code",
      "source": [
        "# Read in data\n",
        "df = pd.read_csv('/content/drive/MyDrive/Instagram threads.csv')\n",
        "print(df.shape)\n",
        "\n",
        "\n",
        "#Downscale\n",
        "df = df.head(100)\n",
        "print(df.shape)"
      ],
      "metadata": {
        "colab": {
          "base_uri": "https://localhost:8080/"
        },
        "id": "y_srSrL6M6xh",
        "outputId": "4a551af0-fae7-4105-c9af-1e64c30843a7"
      },
      "execution_count": 88,
      "outputs": [
        {
          "output_type": "stream",
          "name": "stdout",
          "text": [
            "(36943, 14)\n",
            "(100, 14)\n"
          ]
        }
      ]
    },
    {
      "cell_type": "code",
      "source": [
        "# List of columns to drop\n",
        "columns_to_drop = ['source', 'review_id', 'user_name', 'review_title', 'thumbs_up',\n",
        "                   'review_date', 'developer_response', 'developer_response_date',\n",
        "                   'appVersion', 'laguage_code', 'country_code']\n",
        "\n",
        "# Drop the specified columns from the DataFrame\n",
        "df_cleaned = df.drop(columns=columns_to_drop)\n",
        "\n",
        "# Display the cleaned DataFrame\n",
        "print(df_cleaned.shape)"
      ],
      "metadata": {
        "colab": {
          "base_uri": "https://localhost:8080/"
        },
        "id": "5B3PhY7bWKJl",
        "outputId": "f8f99aa4-4557-47ee-cb49-73fad51d483c"
      },
      "execution_count": 89,
      "outputs": [
        {
          "output_type": "stream",
          "name": "stdout",
          "text": [
            "(100, 3)\n"
          ]
        }
      ]
    },
    {
      "cell_type": "code",
      "source": [
        "df_cleaned.head(100)"
      ],
      "metadata": {
        "colab": {
          "base_uri": "https://localhost:8080/",
          "height": 424
        },
        "id": "-AXWJBkwM-LH",
        "outputId": "e9f52e5a-7dbb-407d-bc2c-affb81cdd4b7"
      },
      "execution_count": 90,
      "outputs": [
        {
          "output_type": "execute_result",
          "data": {
            "text/plain": [
              "    Unnamed: 0                                 review_description  rating\n",
              "0            0                                               Good       5\n",
              "1            1                               Weak copy of Twitter       1\n",
              "2            2  i wish threads have a save button for images a...       3\n",
              "3            3                                            Love it       5\n",
              "4            4                                           Very god       5\n",
              "..         ...                                                ...     ...\n",
              "95          95                               It's a waste of time       1\n",
              "96          96                                          Follow me       5\n",
              "97          97        Poor add download they misbehave afterwards       1\n",
              "98          98                  Too many bugs.. Twitter is better       1\n",
              "99          99                                   Best application       5\n",
              "\n",
              "[100 rows x 3 columns]"
            ],
            "text/html": [
              "\n",
              "  <div id=\"df-6abc11d3-753a-44da-8371-be34f638259a\" class=\"colab-df-container\">\n",
              "    <div>\n",
              "<style scoped>\n",
              "    .dataframe tbody tr th:only-of-type {\n",
              "        vertical-align: middle;\n",
              "    }\n",
              "\n",
              "    .dataframe tbody tr th {\n",
              "        vertical-align: top;\n",
              "    }\n",
              "\n",
              "    .dataframe thead th {\n",
              "        text-align: right;\n",
              "    }\n",
              "</style>\n",
              "<table border=\"1\" class=\"dataframe\">\n",
              "  <thead>\n",
              "    <tr style=\"text-align: right;\">\n",
              "      <th></th>\n",
              "      <th>Unnamed: 0</th>\n",
              "      <th>review_description</th>\n",
              "      <th>rating</th>\n",
              "    </tr>\n",
              "  </thead>\n",
              "  <tbody>\n",
              "    <tr>\n",
              "      <th>0</th>\n",
              "      <td>0</td>\n",
              "      <td>Good</td>\n",
              "      <td>5</td>\n",
              "    </tr>\n",
              "    <tr>\n",
              "      <th>1</th>\n",
              "      <td>1</td>\n",
              "      <td>Weak copy of Twitter</td>\n",
              "      <td>1</td>\n",
              "    </tr>\n",
              "    <tr>\n",
              "      <th>2</th>\n",
              "      <td>2</td>\n",
              "      <td>i wish threads have a save button for images a...</td>\n",
              "      <td>3</td>\n",
              "    </tr>\n",
              "    <tr>\n",
              "      <th>3</th>\n",
              "      <td>3</td>\n",
              "      <td>Love it</td>\n",
              "      <td>5</td>\n",
              "    </tr>\n",
              "    <tr>\n",
              "      <th>4</th>\n",
              "      <td>4</td>\n",
              "      <td>Very god</td>\n",
              "      <td>5</td>\n",
              "    </tr>\n",
              "    <tr>\n",
              "      <th>...</th>\n",
              "      <td>...</td>\n",
              "      <td>...</td>\n",
              "      <td>...</td>\n",
              "    </tr>\n",
              "    <tr>\n",
              "      <th>95</th>\n",
              "      <td>95</td>\n",
              "      <td>It's a waste of time</td>\n",
              "      <td>1</td>\n",
              "    </tr>\n",
              "    <tr>\n",
              "      <th>96</th>\n",
              "      <td>96</td>\n",
              "      <td>Follow me</td>\n",
              "      <td>5</td>\n",
              "    </tr>\n",
              "    <tr>\n",
              "      <th>97</th>\n",
              "      <td>97</td>\n",
              "      <td>Poor add download they misbehave afterwards</td>\n",
              "      <td>1</td>\n",
              "    </tr>\n",
              "    <tr>\n",
              "      <th>98</th>\n",
              "      <td>98</td>\n",
              "      <td>Too many bugs.. Twitter is better</td>\n",
              "      <td>1</td>\n",
              "    </tr>\n",
              "    <tr>\n",
              "      <th>99</th>\n",
              "      <td>99</td>\n",
              "      <td>Best application</td>\n",
              "      <td>5</td>\n",
              "    </tr>\n",
              "  </tbody>\n",
              "</table>\n",
              "<p>100 rows × 3 columns</p>\n",
              "</div>\n",
              "    <div class=\"colab-df-buttons\">\n",
              "\n",
              "  <div class=\"colab-df-container\">\n",
              "    <button class=\"colab-df-convert\" onclick=\"convertToInteractive('df-6abc11d3-753a-44da-8371-be34f638259a')\"\n",
              "            title=\"Convert this dataframe to an interactive table.\"\n",
              "            style=\"display:none;\">\n",
              "\n",
              "  <svg xmlns=\"http://www.w3.org/2000/svg\" height=\"24px\" viewBox=\"0 -960 960 960\">\n",
              "    <path d=\"M120-120v-720h720v720H120Zm60-500h600v-160H180v160Zm220 220h160v-160H400v160Zm0 220h160v-160H400v160ZM180-400h160v-160H180v160Zm440 0h160v-160H620v160ZM180-180h160v-160H180v160Zm440 0h160v-160H620v160Z\"/>\n",
              "  </svg>\n",
              "    </button>\n",
              "\n",
              "  <style>\n",
              "    .colab-df-container {\n",
              "      display:flex;\n",
              "      gap: 12px;\n",
              "    }\n",
              "\n",
              "    .colab-df-convert {\n",
              "      background-color: #E8F0FE;\n",
              "      border: none;\n",
              "      border-radius: 50%;\n",
              "      cursor: pointer;\n",
              "      display: none;\n",
              "      fill: #1967D2;\n",
              "      height: 32px;\n",
              "      padding: 0 0 0 0;\n",
              "      width: 32px;\n",
              "    }\n",
              "\n",
              "    .colab-df-convert:hover {\n",
              "      background-color: #E2EBFA;\n",
              "      box-shadow: 0px 1px 2px rgba(60, 64, 67, 0.3), 0px 1px 3px 1px rgba(60, 64, 67, 0.15);\n",
              "      fill: #174EA6;\n",
              "    }\n",
              "\n",
              "    .colab-df-buttons div {\n",
              "      margin-bottom: 4px;\n",
              "    }\n",
              "\n",
              "    [theme=dark] .colab-df-convert {\n",
              "      background-color: #3B4455;\n",
              "      fill: #D2E3FC;\n",
              "    }\n",
              "\n",
              "    [theme=dark] .colab-df-convert:hover {\n",
              "      background-color: #434B5C;\n",
              "      box-shadow: 0px 1px 3px 1px rgba(0, 0, 0, 0.15);\n",
              "      filter: drop-shadow(0px 1px 2px rgba(0, 0, 0, 0.3));\n",
              "      fill: #FFFFFF;\n",
              "    }\n",
              "  </style>\n",
              "\n",
              "    <script>\n",
              "      const buttonEl =\n",
              "        document.querySelector('#df-6abc11d3-753a-44da-8371-be34f638259a button.colab-df-convert');\n",
              "      buttonEl.style.display =\n",
              "        google.colab.kernel.accessAllowed ? 'block' : 'none';\n",
              "\n",
              "      async function convertToInteractive(key) {\n",
              "        const element = document.querySelector('#df-6abc11d3-753a-44da-8371-be34f638259a');\n",
              "        const dataTable =\n",
              "          await google.colab.kernel.invokeFunction('convertToInteractive',\n",
              "                                                    [key], {});\n",
              "        if (!dataTable) return;\n",
              "\n",
              "        const docLinkHtml = 'Like what you see? Visit the ' +\n",
              "          '<a target=\"_blank\" href=https://colab.research.google.com/notebooks/data_table.ipynb>data table notebook</a>'\n",
              "          + ' to learn more about interactive tables.';\n",
              "        element.innerHTML = '';\n",
              "        dataTable['output_type'] = 'display_data';\n",
              "        await google.colab.output.renderOutput(dataTable, element);\n",
              "        const docLink = document.createElement('div');\n",
              "        docLink.innerHTML = docLinkHtml;\n",
              "        element.appendChild(docLink);\n",
              "      }\n",
              "    </script>\n",
              "  </div>\n",
              "\n",
              "\n",
              "<div id=\"df-207a8204-46b9-468b-9930-ad7d9baa3878\">\n",
              "  <button class=\"colab-df-quickchart\" onclick=\"quickchart('df-207a8204-46b9-468b-9930-ad7d9baa3878')\"\n",
              "            title=\"Suggest charts\"\n",
              "            style=\"display:none;\">\n",
              "\n",
              "<svg xmlns=\"http://www.w3.org/2000/svg\" height=\"24px\"viewBox=\"0 0 24 24\"\n",
              "     width=\"24px\">\n",
              "    <g>\n",
              "        <path d=\"M19 3H5c-1.1 0-2 .9-2 2v14c0 1.1.9 2 2 2h14c1.1 0 2-.9 2-2V5c0-1.1-.9-2-2-2zM9 17H7v-7h2v7zm4 0h-2V7h2v10zm4 0h-2v-4h2v4z\"/>\n",
              "    </g>\n",
              "</svg>\n",
              "  </button>\n",
              "\n",
              "<style>\n",
              "  .colab-df-quickchart {\n",
              "      --bg-color: #E8F0FE;\n",
              "      --fill-color: #1967D2;\n",
              "      --hover-bg-color: #E2EBFA;\n",
              "      --hover-fill-color: #174EA6;\n",
              "      --disabled-fill-color: #AAA;\n",
              "      --disabled-bg-color: #DDD;\n",
              "  }\n",
              "\n",
              "  [theme=dark] .colab-df-quickchart {\n",
              "      --bg-color: #3B4455;\n",
              "      --fill-color: #D2E3FC;\n",
              "      --hover-bg-color: #434B5C;\n",
              "      --hover-fill-color: #FFFFFF;\n",
              "      --disabled-bg-color: #3B4455;\n",
              "      --disabled-fill-color: #666;\n",
              "  }\n",
              "\n",
              "  .colab-df-quickchart {\n",
              "    background-color: var(--bg-color);\n",
              "    border: none;\n",
              "    border-radius: 50%;\n",
              "    cursor: pointer;\n",
              "    display: none;\n",
              "    fill: var(--fill-color);\n",
              "    height: 32px;\n",
              "    padding: 0;\n",
              "    width: 32px;\n",
              "  }\n",
              "\n",
              "  .colab-df-quickchart:hover {\n",
              "    background-color: var(--hover-bg-color);\n",
              "    box-shadow: 0 1px 2px rgba(60, 64, 67, 0.3), 0 1px 3px 1px rgba(60, 64, 67, 0.15);\n",
              "    fill: var(--button-hover-fill-color);\n",
              "  }\n",
              "\n",
              "  .colab-df-quickchart-complete:disabled,\n",
              "  .colab-df-quickchart-complete:disabled:hover {\n",
              "    background-color: var(--disabled-bg-color);\n",
              "    fill: var(--disabled-fill-color);\n",
              "    box-shadow: none;\n",
              "  }\n",
              "\n",
              "  .colab-df-spinner {\n",
              "    border: 2px solid var(--fill-color);\n",
              "    border-color: transparent;\n",
              "    border-bottom-color: var(--fill-color);\n",
              "    animation:\n",
              "      spin 1s steps(1) infinite;\n",
              "  }\n",
              "\n",
              "  @keyframes spin {\n",
              "    0% {\n",
              "      border-color: transparent;\n",
              "      border-bottom-color: var(--fill-color);\n",
              "      border-left-color: var(--fill-color);\n",
              "    }\n",
              "    20% {\n",
              "      border-color: transparent;\n",
              "      border-left-color: var(--fill-color);\n",
              "      border-top-color: var(--fill-color);\n",
              "    }\n",
              "    30% {\n",
              "      border-color: transparent;\n",
              "      border-left-color: var(--fill-color);\n",
              "      border-top-color: var(--fill-color);\n",
              "      border-right-color: var(--fill-color);\n",
              "    }\n",
              "    40% {\n",
              "      border-color: transparent;\n",
              "      border-right-color: var(--fill-color);\n",
              "      border-top-color: var(--fill-color);\n",
              "    }\n",
              "    60% {\n",
              "      border-color: transparent;\n",
              "      border-right-color: var(--fill-color);\n",
              "    }\n",
              "    80% {\n",
              "      border-color: transparent;\n",
              "      border-right-color: var(--fill-color);\n",
              "      border-bottom-color: var(--fill-color);\n",
              "    }\n",
              "    90% {\n",
              "      border-color: transparent;\n",
              "      border-bottom-color: var(--fill-color);\n",
              "    }\n",
              "  }\n",
              "</style>\n",
              "\n",
              "  <script>\n",
              "    async function quickchart(key) {\n",
              "      const quickchartButtonEl =\n",
              "        document.querySelector('#' + key + ' button');\n",
              "      quickchartButtonEl.disabled = true;  // To prevent multiple clicks.\n",
              "      quickchartButtonEl.classList.add('colab-df-spinner');\n",
              "      try {\n",
              "        const charts = await google.colab.kernel.invokeFunction(\n",
              "            'suggestCharts', [key], {});\n",
              "      } catch (error) {\n",
              "        console.error('Error during call to suggestCharts:', error);\n",
              "      }\n",
              "      quickchartButtonEl.classList.remove('colab-df-spinner');\n",
              "      quickchartButtonEl.classList.add('colab-df-quickchart-complete');\n",
              "    }\n",
              "    (() => {\n",
              "      let quickchartButtonEl =\n",
              "        document.querySelector('#df-207a8204-46b9-468b-9930-ad7d9baa3878 button');\n",
              "      quickchartButtonEl.style.display =\n",
              "        google.colab.kernel.accessAllowed ? 'block' : 'none';\n",
              "    })();\n",
              "  </script>\n",
              "</div>\n",
              "\n",
              "    </div>\n",
              "  </div>\n"
            ],
            "application/vnd.google.colaboratory.intrinsic+json": {
              "type": "dataframe",
              "variable_name": "df_cleaned",
              "summary": "{\n  \"name\": \"df_cleaned\",\n  \"rows\": 100,\n  \"fields\": [\n    {\n      \"column\": \"Unnamed: 0\",\n      \"properties\": {\n        \"dtype\": \"number\",\n        \"std\": 29,\n        \"min\": 0,\n        \"max\": 99,\n        \"num_unique_values\": 100,\n        \"samples\": [\n          83,\n          53,\n          70\n        ],\n        \"semantic_type\": \"\",\n        \"description\": \"\"\n      }\n    },\n    {\n      \"column\": \"review_description\",\n      \"properties\": {\n        \"dtype\": \"string\",\n        \"num_unique_values\": 96,\n        \"samples\": [\n          \"Doesn't work on Huawei phones\",\n          \"Your Instagram application now very bad beacuse now massage invite option showing what is that Instagram team meta team please what you doing day by day to your application i can't understand why this do and now my account showing suspensive activities what is that i use one mobile number and one mobile why showing this your service and system not working now i hate your application now Instagram team meta team.\",\n          \"None of the accounts that I follow show up in my home feed. Also, I've seen others saying you can toggle this by tapping the Threads logo at the top, but mine doesn't work that way. Apparently there's supposed to be a \\\"For You\\\" and a \\\"Following\\\" option that I don't have.\"\n        ],\n        \"semantic_type\": \"\",\n        \"description\": \"\"\n      }\n    },\n    {\n      \"column\": \"rating\",\n      \"properties\": {\n        \"dtype\": \"number\",\n        \"std\": 1,\n        \"min\": 1,\n        \"max\": 5,\n        \"num_unique_values\": 5,\n        \"samples\": [\n          1,\n          4,\n          3\n        ],\n        \"semantic_type\": \"\",\n        \"description\": \"\"\n      }\n    }\n  ]\n}"
            }
          },
          "metadata": {},
          "execution_count": 90
        }
      ]
    },
    {
      "cell_type": "code",
      "source": [
        "df.rename(columns={'Unnamed: 0': 'index'}, inplace=True)\n",
        "\n",
        "# Now 'df' will have the column name changed from 'Unnamed: 0' to 'index'\n",
        "print(df.head())"
      ],
      "metadata": {
        "colab": {
          "base_uri": "https://localhost:8080/"
        },
        "id": "K4iNUHyFbO8X",
        "outputId": "c152190f-825d-4b70-a183-0f38f052b451"
      },
      "execution_count": 91,
      "outputs": [
        {
          "output_type": "stream",
          "name": "stdout",
          "text": [
            "   index       source                             review_id  \\\n",
            "0      0  Google Play  7cd90e5b-4829-43b9-9fb4-c8c6d1e339c1   \n",
            "1      1  Google Play  6deb8265-2bac-4524-bcb6-f90829fa4e69   \n",
            "2      2  Google Play  91ef61ce-0f05-4f3b-b3d3-5d19cd408ab8   \n",
            "3      3  Google Play  b7721b78-6b77-4f8c-a1d3-a854af4c1f0f   \n",
            "4      4  Google Play  c89ef522-c94c-4171-878f-1d672dce7f11   \n",
            "\n",
            "                    user_name review_title  \\\n",
            "0             Eddie Clark Jr.          NaN   \n",
            "1                     Rasa RT          NaN   \n",
            "2  SITI NUR HAFIZA BINTI AZIZ          NaN   \n",
            "3               Asap Khalifah          NaN   \n",
            "4                Syed Hussein          NaN   \n",
            "\n",
            "                                  review_description  rating  thumbs_up  \\\n",
            "0                                               Good       5        0.0   \n",
            "1                               Weak copy of Twitter       1        0.0   \n",
            "2  i wish threads have a save button for images a...       3        0.0   \n",
            "3                                            Love it       5        0.0   \n",
            "4                                           Very god       5        0.0   \n",
            "\n",
            "           review_date  developer_response  developer_response_date  \\\n",
            "0  2023-08-07 19:14:36                 NaN                      NaN   \n",
            "1  2023-08-07 19:07:04                 NaN                      NaN   \n",
            "2  2023-08-07 18:57:07                 NaN                      NaN   \n",
            "3  2023-08-07 18:37:16                 NaN                      NaN   \n",
            "4  2023-08-07 18:14:15                 NaN                      NaN   \n",
            "\n",
            "       appVersion laguage_code country_code  \n",
            "0  294.0.0.27.110           en           us  \n",
            "1             NaN           en           us  \n",
            "2  294.0.0.27.110           en           us  \n",
            "3             NaN           en           us  \n",
            "4             NaN           en           us  \n"
          ]
        }
      ]
    },
    {
      "cell_type": "markdown",
      "source": [
        "# Quick EDA"
      ],
      "metadata": {
        "id": "s4zPhNtTNO_u"
      }
    },
    {
      "cell_type": "code",
      "source": [
        "ax = df['rating'].value_counts().sort_index() \\\n",
        "          .plot(kind='bar',\n",
        "          title='Count of Reviews',\n",
        "          figsize=(10, 5))\n",
        "ax.set_xlabel('Review')\n",
        "plt.show()"
      ],
      "metadata": {
        "colab": {
          "base_uri": "https://localhost:8080/",
          "height": 487
        },
        "id": "cKBhNNRJNLGi",
        "outputId": "ef89373e-6096-45a3-f744-29511ba57fff"
      },
      "execution_count": 92,
      "outputs": [
        {
          "output_type": "display_data",
          "data": {
            "text/plain": [
              "<Figure size 1000x500 with 1 Axes>"
            ],
            "image/png": "[encoded data removed]"
          },
          "metadata": {}
        }
      ]
    },
    {
      "cell_type": "markdown",
      "source": [
        "# Basic NLTK"
      ],
      "metadata": {
        "id": "sDOgVImNNmIM"
      }
    },
    {
      "cell_type": "code",
      "source": [
        "example = df['review_description'][46]\n",
        "print(example)"
      ],
      "metadata": {
        "colab": {
          "base_uri": "https://localhost:8080/"
        },
        "id": "KsBsOH_4Nq1y",
        "outputId": "24f9bd94-110b-4e62-b189-a120e626a1fe"
      },
      "execution_count": 93,
      "outputs": [
        {
          "output_type": "stream",
          "name": "stdout",
          "text": [
            "An exciting new way to see Ads and posts from people you don't care about! At least you don't have to worry about seeing up any preferences.\n"
          ]
        }
      ]
    },
    {
      "cell_type": "markdown",
      "source": [],
      "metadata": {
        "id": "HyiXkRNTz2jA"
      }
    },
    {
      "source": [
        "tokens = nltk.word_tokenize(example)\n",
        "tokens[:12]"
      ],
      "cell_type": "code",
      "metadata": {
        "colab": {
          "base_uri": "https://localhost:8080/"
        },
        "id": "jC0IuKmh0BBk",
        "outputId": "f3db7d0f-771a-4079-fc74-bde09fa4107b"
      },
      "execution_count": 95,
      "outputs": [
        {
          "output_type": "execute_result",
          "data": {
            "text/plain": [
              "['An',\n",
              " 'exciting',\n",
              " 'new',\n",
              " 'way',\n",
              " 'to',\n",
              " 'see',\n",
              " 'Ads',\n",
              " 'and',\n",
              " 'posts',\n",
              " 'from',\n",
              " 'people',\n",
              " 'you']"
            ]
          },
          "metadata": {},
          "execution_count": 95
        }
      ]
    },
    {
      "source": [
        "tagged = nltk.pos_tag(tokens)\n",
        "tagged[-5:]"
      ],
      "cell_type": "code",
      "metadata": {
        "colab": {
          "base_uri": "https://localhost:8080/"
        },
        "id": "WyOeKfBm0LWw",
        "outputId": "0c19e102-cdfa-4bf9-ede9-3e1272674db5"
      },
      "execution_count": 96,
      "outputs": [
        {
          "output_type": "execute_result",
          "data": {
            "text/plain": [
              "[('seeing', 'VBG'),\n",
              " ('up', 'RP'),\n",
              " ('any', 'DT'),\n",
              " ('preferences', 'NNS'),\n",
              " ('.', '.')]"
            ]
          },
          "metadata": {},
          "execution_count": 96
        }
      ]
    },
    {
      "cell_type": "code",
      "source": [
        "entities = nltk.chunk.ne_chunk(tagged)\n",
        "print(entities)"
      ],
      "metadata": {
        "colab": {
          "base_uri": "https://localhost:8080/"
        },
        "id": "rQ_60mtcP-fT",
        "outputId": "5bf29b79-8372-45aa-e7e1-b2b969243f96"
      },
      "execution_count": 97,
      "outputs": [
        {
          "output_type": "stream",
          "name": "stdout",
          "text": [
            "(S\n",
            "  An/DT\n",
            "  exciting/JJ\n",
            "  new/JJ\n",
            "  way/NN\n",
            "  to/TO\n",
            "  see/VB\n",
            "  (PERSON Ads/NNP)\n",
            "  and/CC\n",
            "  posts/NNS\n",
            "  from/IN\n",
            "  people/NNS\n",
            "  you/PRP\n",
            "  do/VBP\n",
            "  n't/RB\n",
            "  care/VB\n",
            "  about/IN\n",
            "  !/.\n",
            "  At/IN\n",
            "  least/JJS\n",
            "  you/PRP\n",
            "  do/VBP\n",
            "  n't/RB\n",
            "  have/VB\n",
            "  to/TO\n",
            "  worry/VB\n",
            "  about/IN\n",
            "  seeing/VBG\n",
            "  up/RP\n",
            "  any/DT\n",
            "  preferences/NNS\n",
            "  ./.)\n"
          ]
        }
      ]
    },
    {
      "cell_type": "markdown",
      "source": [
        "# Step 1. VADER Seniment Scoring\n",
        "\n",
        "We will use NLTK's SentimentIntensityAnalyzer to get the neg/neu/pos scores of the text.\n",
        "\n",
        "(Valence Aware Dictionary and sEntiment Reasoner)\n",
        "\n",
        "This uses a \"bag of words\" approach:\n",
        "Stop words are removed\n",
        "each word is scored and combined to a total score.\n"
      ],
      "metadata": {
        "id": "MsGEkApnQc4j"
      }
    },
    {
      "cell_type": "code",
      "source": [
        "from nltk.sentiment import SentimentIntensityAnalyzer\n",
        "from tqdm.notebook import tqdm\n",
        "\n",
        "sia = SentimentIntensityAnalyzer()"
      ],
      "metadata": {
        "id": "gBmiq6WOQXhc"
      },
      "execution_count": 98,
      "outputs": []
    },
    {
      "cell_type": "code",
      "source": [
        "sia.polarity_scores('The curious cat jumped over the lazy dog and landed gracefully on the fluffy pillow.')"
      ],
      "metadata": {
        "colab": {
          "base_uri": "https://localhost:8080/"
        },
        "id": "MDyOD711Qi65",
        "outputId": "e197c88a-c652-474d-e1af-df337bea3895"
      },
      "execution_count": 99,
      "outputs": [
        {
          "output_type": "execute_result",
          "data": {
            "text/plain": [
              "{'neg': 0.124, 'neu': 0.594, 'pos': 0.282, 'compound': 0.4939}"
            ]
          },
          "metadata": {},
          "execution_count": 99
        }
      ]
    },
    {
      "cell_type": "code",
      "source": [
        "sia.polarity_scores('True friends are like stars; even in the darkest of times, they shine brightly and guide us..')"
      ],
      "metadata": {
        "colab": {
          "base_uri": "https://localhost:8080/"
        },
        "id": "S3imOT_RQ9lH",
        "outputId": "445741f7-6fce-4a52-8db9-50601eb09094"
      },
      "execution_count": 100,
      "outputs": [
        {
          "output_type": "execute_result",
          "data": {
            "text/plain": [
              "{'neg': 0.123, 'neu': 0.46, 'pos': 0.418, 'compound': 0.7717}"
            ]
          },
          "metadata": {},
          "execution_count": 100
        }
      ]
    },
    {
      "cell_type": "code",
      "source": [
        "print(example)\n",
        "sia.polarity_scores(example)"
      ],
      "metadata": {
        "colab": {
          "base_uri": "https://localhost:8080/"
        },
        "id": "lleuXO8CRM9w",
        "outputId": "863660d5-8fbb-4a9a-c147-9f3fcf922ebd"
      },
      "execution_count": 101,
      "outputs": [
        {
          "output_type": "stream",
          "name": "stdout",
          "text": [
            "An exciting new way to see Ads and posts from people you don't care about! At least you don't have to worry about seeing up any preferences.\n"
          ]
        },
        {
          "output_type": "execute_result",
          "data": {
            "text/plain": [
              "{'neg': 0.081, 'neu': 0.738, 'pos': 0.181, 'compound': 0.5057}"
            ]
          },
          "metadata": {},
          "execution_count": 101
        }
      ]
    },
    {
      "cell_type": "code",
      "source": [
        "extdata = {}\n",
        "for i, row in tqdm(df.iterrows(), total=len(df)):\n",
        "    text = row['review_description']\n",
        "    myid = row['rating']\n",
        "    extdata[myid] = sia.polarity_scores(text)"
      ],
      "metadata": {
        "colab": {
          "base_uri": "https://localhost:8080/",
          "height": 49,
          "referenced_widgets": [
            "aed0e42f418e40668e83629b9dfdb0c8",
            "74d2dfb2ae3c47a68e4483fee8570755",
            "ccde36e09357476bb73f7b43a01b2e09",
            "a8bd94cceeba469bbc2895c625892021",
            "a6f41f869c294d48b87cad6f8e16b8fd",
            "7b9e02c216d64878b52a4e63d3f90ee4",
            "d420d5e1949e4b80aa5482f78a6e0733",
            "ebe7d89257e74860a2e320157f46bbf3",
            "e8261d376fd0407bb142ba369650c588",
            "50a3a44afb964c35a3b66ae6b0ddaea4",
            "f82c7d5d400c44c9a9267dc8605cf23e"
          ]
        },
        "id": "L675ZbXfXYUd",
        "outputId": "4db07995-2e7f-4c41-b030-bff252dd9055"
      },
      "execution_count": 102,
      "outputs": [
        {
          "output_type": "display_data",
          "data": {
            "text/plain": [
              "  0%|          | 0/100 [00:00<?, ?it/s]"
            ],
            "application/vnd.jupyter.widget-view+json": {
              "version_major": 2,
              "version_minor": 0,
              "model_id": "aed0e42f418e40668e83629b9dfdb0c8"
            }
          },
          "metadata": {}
        }
      ]
    },
    {
      "cell_type": "code",
      "source": [
        "vaders = pd.DataFrame(extdata).T\n",
        "vaders = vaders.reset_index().rename(columns={'index': 'rating'})\n",
        "vaders = vaders.merge(df, how='left')\n"
      ],
      "metadata": {
        "id": "qh9LfpZmYucL"
      },
      "execution_count": 103,
      "outputs": []
    },
    {
      "cell_type": "code",
      "source": [
        "ax = sns.barplot(data=vaders, x='index', y='compound')\n",
        "ax.set_title('Compund Score by 5points')\n",
        "plt.show()"
      ],
      "metadata": {
        "colab": {
          "base_uri": "https://localhost:8080/",
          "height": 477
        },
        "id": "QUNDwjucvu8k",
        "outputId": "e350e418-5492-4294-c161-e9f52e7aec32"
      },
      "execution_count": 104,
      "outputs": [
        {
          "output_type": "display_data",
          "data": {
            "text/plain": [
              "<Figure size 640x480 with 1 Axes>"
            ],
            "image/png": "[encoded data removed]"
          },
          "metadata": {}
        }
      ]
    },
    {
      "cell_type": "markdown",
      "source": [
        "# Plot VADER results"
      ],
      "metadata": {
        "id": "NKk4WbgUSArd"
      }
    },
    {
      "cell_type": "code",
      "source": [
        "ax = sns.barplot(data=vaders, x='rating', y='compound')\n",
        "ax.set_title('Compund Score by rating 5')\n",
        "plt.show()"
      ],
      "metadata": {
        "colab": {
          "base_uri": "https://localhost:8080/",
          "height": 477
        },
        "id": "KJm3m-mYUpX3",
        "outputId": "048ebfe1-234c-4a31-86d7-45e450a8cb6d"
      },
      "execution_count": 105,
      "outputs": [
        {
          "output_type": "display_data",
          "data": {
            "text/plain": [
              "<Figure size 640x480 with 1 Axes>"
            ],
            "image/png": "[encoded data removed]"
          },
          "metadata": {}
        }
      ]
    },
    {
      "cell_type": "code",
      "source": [
        "fig, axs = plt.subplots(1, 3, figsize=(12, 3))\n",
        "sns.barplot(data=vaders, x='rating', y='pos', ax=axs[0])\n",
        "sns.barplot(data=vaders, x='rating', y='neu', ax=axs[1])\n",
        "sns.barplot(data=vaders, x='rating', y='neg', ax=axs[2])\n",
        "axs[0].set_title('Positive')\n",
        "axs[1].set_title('Neutral')\n",
        "axs[2].set_title('Negative')\n",
        "plt.tight_layout()\n",
        "plt.show()"
      ],
      "metadata": {
        "colab": {
          "base_uri": "https://localhost:8080/",
          "height": 307
        },
        "id": "m44h8nqjXWtS",
        "outputId": "29fbd51c-2c2b-4253-9f62-07b7543b935d"
      },
      "execution_count": 106,
      "outputs": [
        {
          "output_type": "display_data",
          "data": {
            "text/plain": [
              "<Figure size 1200x300 with 3 Axes>"
            ],
            "image/png": "[encoded data removed]"
          },
          "metadata": {}
        }
      ]
    },
    {
      "cell_type": "markdown",
      "source": [
        "# Step 2. Roberta Pretrained Model\n",
        "Use a model trained of a large corpus of data.\n",
        "Transformer model accounts for the words but also the context related to other words."
      ],
      "metadata": {
        "id": "XYN83mzQbynY"
      }
    },
    {
      "cell_type": "code",
      "source": [
        "print(example)"
      ],
      "metadata": {
        "colab": {
          "base_uri": "https://localhost:8080/"
        },
        "id": "xNavpw3lbty9",
        "outputId": "807b3e30-20c7-474d-8f2b-9e9d9c34bd64"
      },
      "execution_count": 107,
      "outputs": [
        {
          "output_type": "stream",
          "name": "stdout",
          "text": [
            "An exciting new way to see Ads and posts from people you don't care about! At least you don't have to worry about seeing up any preferences.\n"
          ]
        }
      ]
    },
    {
      "cell_type": "code",
      "source": [
        "# VADER results on example\n",
        "print(example)\n",
        "sia.polarity_scores(example)"
      ],
      "metadata": {
        "colab": {
          "base_uri": "https://localhost:8080/"
        },
        "id": "xx3F0XGKb2qH",
        "outputId": "cf81fa23-2d38-4dd1-886c-f7edeaa409d3"
      },
      "execution_count": 108,
      "outputs": [
        {
          "output_type": "stream",
          "name": "stdout",
          "text": [
            "An exciting new way to see Ads and posts from people you don't care about! At least you don't have to worry about seeing up any preferences.\n"
          ]
        },
        {
          "output_type": "execute_result",
          "data": {
            "text/plain": [
              "{'neg': 0.081, 'neu': 0.738, 'pos': 0.181, 'compound': 0.5057}"
            ]
          },
          "metadata": {},
          "execution_count": 108
        }
      ]
    },
    {
      "cell_type": "code",
      "source": [
        "from transformers import AutoTokenizer\n",
        "from transformers import AutoModelForSequenceClassification\n",
        "from scipy.special import softmax"
      ],
      "metadata": {
        "id": "_tanCS5rb6MA"
      },
      "execution_count": 109,
      "outputs": []
    },
    {
      "cell_type": "code",
      "source": [
        "data_t = f\"cardiffnlp/twitter-roberta-base-sentiment\"  #1.5L sentences 3 1.7 Trillion\n",
        "tokenizer = AutoTokenizer.from_pretrained(data_t)\n",
        "model = AutoModelForSequenceClassification.from_pretrained(data_t)"
      ],
      "metadata": {
        "id": "1OyGGJPZb8Yj"
      },
      "execution_count": 110,
      "outputs": []
    },
    {
      "cell_type": "code",
      "source": [
        "# Run for Roberta Model\n",
        "encoded_text = tokenizer(example, return_tensors='pt')\n",
        "#print(encoded_text)\n",
        "output = model(**encoded_text)\n",
        "print(output)\n",
        "print(\"-----------------------------\")\n",
        "scores = output[0][0].detach().numpy()\n",
        "print(scores)\n",
        "scores = softmax(scores)\n",
        "print(scores)\n",
        "scores_dict = {\n",
        "    'roberta_neg' : scores[0],\n",
        "    'roberta_neu' : scores[1],\n",
        "    'roberta_pos' : scores[2]\n",
        "}\n",
        "print(scores_dict)"
      ],
      "metadata": {
        "colab": {
          "base_uri": "https://localhost:8080/"
        },
        "id": "QEZxDVIIcALx",
        "outputId": "9e93876f-3e33-447e-ed91-f3c8eaafa4d8"
      },
      "execution_count": 111,
      "outputs": [
        {
          "output_type": "stream",
          "name": "stdout",
          "text": [
            "SequenceClassifierOutput(loss=None, logits=tensor([[-0.5279,  0.1152,  0.6536]], grad_fn=<AddmmBackward0>), hidden_states=None, attentions=None)\n",
            "-----------------------------\n",
            "[-0.5279186  0.1151512  0.6536087]\n",
            "[0.16229394 0.30873364 0.52897245]\n",
            "{'roberta_neg': 0.16229394, 'roberta_neu': 0.30873364, 'roberta_pos': 0.52897245}\n"
          ]
        }
      ]
    },
    {
      "cell_type": "code",
      "source": [
        "# Run for Roberta Model\n",
        "encoded_text = tokenizer(example, return_tensors='pt')\n",
        "#print(encoded_text)\n",
        "output = model(**encoded_text)\n",
        "print(output)\n",
        "print(\"-----------------------------\")\n",
        "scores = output[0][0].detach().numpy()\n",
        "print(scores)\n",
        "scores = softmax(scores)\n",
        "print(scores)\n",
        "scores_dict = {\n",
        "    'roberta_neg' : scores[0],\n",
        "    'roberta_neu' : scores[1],\n",
        "    'roberta_pos' : scores[2]\n",
        "}\n",
        "print(scores_dict)"
      ],
      "metadata": {
        "colab": {
          "base_uri": "https://localhost:8080/"
        },
        "id": "v7fAhm_fcGVl",
        "outputId": "ebce28f5-536b-4cc6-b414-497a39fc56b8"
      },
      "execution_count": 112,
      "outputs": [
        {
          "output_type": "stream",
          "name": "stdout",
          "text": [
            "SequenceClassifierOutput(loss=None, logits=tensor([[-0.5279,  0.1152,  0.6536]], grad_fn=<AddmmBackward0>), hidden_states=None, attentions=None)\n",
            "-----------------------------\n",
            "[-0.5279186  0.1151512  0.6536087]\n",
            "[0.16229394 0.30873364 0.52897245]\n",
            "{'roberta_neg': 0.16229394, 'roberta_neu': 0.30873364, 'roberta_pos': 0.52897245}\n"
          ]
        }
      ]
    },
    {
      "source": [
        "def polarity_scores_roberta(example):\n",
        "    encoded_text = tokenizer(example, return_tensors='pt')\n",
        "    output = model(**encoded_text)\n",
        "    scores = output[0][0].detach().numpy()\n",
        "    scores = softmax(scores)\n",
        "    scores_dict = {\n",
        "        'roberta_neg' : scores[0],\n",
        "        'roberta_neu' : scores[1],\n",
        "        'roberta_pos' : scores[2]\n",
        "    }\n",
        "    return scores_dict"
      ],
      "cell_type": "code",
      "metadata": {
        "id": "Waczd5BbcjDH"
      },
      "execution_count": 122,
      "outputs": []
    },
    {
      "cell_type": "code",
      "source": [
        "res = {}\n",
        "for i, row in tqdm(df.iterrows(), total=len(df)):\n",
        "    try:\n",
        "        text = row['review_description']\n",
        "        myid = row['rating']\n",
        "        vader_result = sia.polarity_scores(text)\n",
        "        vader_result_rename = {}\n",
        "        for key, value in vader_result.items():\n",
        "            vader_result_rename[f\"vader_{key}\"] = value\n",
        "\n",
        "        roberta_result = polarity_scores_roberta(text)\n",
        "\n",
        "        both = {**vader_result_rename, **roberta_result}\n",
        "        res[myid] = both\n",
        "    except RuntimeError:\n",
        "        print(f'Broke for id {myid}')"
      ],
      "metadata": {
        "colab": {
          "base_uri": "https://localhost:8080/",
          "height": 49,
          "referenced_widgets": [
            "a608e3dbf4fb4ece9b4c71b3d8a6fe4a",
            "2aee6e9a1c4d4c199ba1da2230bbd422",
            "fa978194110a495b8df74940b362be2f",
            "effa7eed0ae34f69957202db2004652c",
            "8f6e8f1687ee434ab218a5768b999ed7",
            "17d6408ce59b44ba92f68c85f14c6fed",
            "ff7f8fbd57b14135b91a94529ca16f0b",
            "057d2c69fd744ea09bf8561436f994ff",
            "427d064097cf498d81482b4b121c3d57",
            "54288173037344ef92d8fb061ad544f1",
            "47aa4435313342619c9337af9ff2e8ba"
          ]
        },
        "id": "EDe-8grj3usx",
        "outputId": "dba8961c-f25a-40c5-a7c3-0eddaee8d94a"
      },
      "execution_count": 124,
      "outputs": [
        {
          "output_type": "display_data",
          "data": {
            "text/plain": [
              "  0%|          | 0/100 [00:00<?, ?it/s]"
            ],
            "application/vnd.jupyter.widget-view+json": {
              "version_major": 2,
              "version_minor": 0,
              "model_id": "a608e3dbf4fb4ece9b4c71b3d8a6fe4a"
            }
          },
          "metadata": {}
        }
      ]
    },
    {
      "cell_type": "code",
      "source": [
        "results_df = pd.DataFrame(res).T\n",
        "results_df = results_df.reset_index().rename(columns={'review_description': 'rating'})\n",
        "results_df = results_df.merge(df, how='left')\n",
        "results_df.head()"
      ],
      "metadata": {
        "colab": {
          "base_uri": "https://localhost:8080/",
          "height": 516
        },
        "id": "M9AC8baJcc-K",
        "outputId": "db7254e9-e173-499f-cd9e-74ecaa28eb1e"
      },
      "execution_count": 125,
      "outputs": [
        {
          "output_type": "execute_result",
          "data": {
            "text/plain": [
              "   index  vader_neg  vader_neu  vader_pos  vader_compound  roberta_neg  \\\n",
              "0      5        0.0      0.192      0.808          0.6369     0.012817   \n",
              "1      1        0.0      0.633      0.367          0.4404     0.446364   \n",
              "2      3        0.0      0.689      0.311          0.7291     0.003242   \n",
              "3      2        0.0      0.670      0.330          0.8126     0.308370   \n",
              "4      4        0.0      0.000      1.000          0.4404     0.126004   \n",
              "\n",
              "   roberta_neu  roberta_pos       source  \\\n",
              "0     0.180937     0.806246  Google Play   \n",
              "1     0.368028     0.185608  Google Play   \n",
              "2     0.023324     0.973434  Google Play   \n",
              "3     0.495720     0.195911  Google Play   \n",
              "4     0.559926     0.314070  Google Play   \n",
              "\n",
              "                              review_id  ... review_title  \\\n",
              "0  950acab8-bc92-4e1e-81c4-3f228ccc7362  ...          NaN   \n",
              "1  6deb8265-2bac-4524-bcb6-f90829fa4e69  ...          NaN   \n",
              "2  b7721b78-6b77-4f8c-a1d3-a854af4c1f0f  ...          NaN   \n",
              "3  91ef61ce-0f05-4f3b-b3d3-5d19cd408ab8  ...          NaN   \n",
              "4  c89ef522-c94c-4171-878f-1d672dce7f11  ...          NaN   \n",
              "\n",
              "                                  review_description rating  thumbs_up  \\\n",
              "0                                               Nice      1        0.0   \n",
              "1                               Weak copy of Twitter      1        0.0   \n",
              "2                                            Love it      5        0.0   \n",
              "3  i wish threads have a save button for images a...      3        0.0   \n",
              "4                                           Very god      5        0.0   \n",
              "\n",
              "           review_date developer_response  developer_response_date  \\\n",
              "0  2023-08-07 18:03:09                NaN                      NaN   \n",
              "1  2023-08-07 19:07:04                NaN                      NaN   \n",
              "2  2023-08-07 18:37:16                NaN                      NaN   \n",
              "3  2023-08-07 18:57:07                NaN                      NaN   \n",
              "4  2023-08-07 18:14:15                NaN                      NaN   \n",
              "\n",
              "       appVersion laguage_code country_code  \n",
              "0             NaN           en           us  \n",
              "1             NaN           en           us  \n",
              "2             NaN           en           us  \n",
              "3  294.0.0.27.110           en           us  \n",
              "4             NaN           en           us  \n",
              "\n",
              "[5 rows x 21 columns]"
            ],
            "text/html": [
              "\n",
              "  <div id=\"df-77922af5-6997-4d50-a937-c76788247999\" class=\"colab-df-container\">\n",
              "    <div>\n",
              "<style scoped>\n",
              "    .dataframe tbody tr th:only-of-type {\n",
              "        vertical-align: middle;\n",
              "    }\n",
              "\n",
              "    .dataframe tbody tr th {\n",
              "        vertical-align: top;\n",
              "    }\n",
              "\n",
              "    .dataframe thead th {\n",
              "        text-align: right;\n",
              "    }\n",
              "</style>\n",
              "<table border=\"1\" class=\"dataframe\">\n",
              "  <thead>\n",
              "    <tr style=\"text-align: right;\">\n",
              "      <th></th>\n",
              "      <th>index</th>\n",
              "      <th>vader_neg</th>\n",
              "      <th>vader_neu</th>\n",
              "      <th>vader_pos</th>\n",
              "      <th>vader_compound</th>\n",
              "      <th>roberta_neg</th>\n",
              "      <th>roberta_neu</th>\n",
              "      <th>roberta_pos</th>\n",
              "      <th>source</th>\n",
              "      <th>review_id</th>\n",
              "      <th>...</th>\n",
              "      <th>review_title</th>\n",
              "      <th>review_description</th>\n",
              "      <th>rating</th>\n",
              "      <th>thumbs_up</th>\n",
              "      <th>review_date</th>\n",
              "      <th>developer_response</th>\n",
              "      <th>developer_response_date</th>\n",
              "      <th>appVersion</th>\n",
              "      <th>laguage_code</th>\n",
              "      <th>country_code</th>\n",
              "    </tr>\n",
              "  </thead>\n",
              "  <tbody>\n",
              "    <tr>\n",
              "      <th>0</th>\n",
              "      <td>5</td>\n",
              "      <td>0.0</td>\n",
              "      <td>0.192</td>\n",
              "      <td>0.808</td>\n",
              "      <td>0.6369</td>\n",
              "      <td>0.012817</td>\n",
              "      <td>0.180937</td>\n",
              "      <td>0.806246</td>\n",
              "      <td>Google Play</td>\n",
              "      <td>950acab8-bc92-4e1e-81c4-3f228ccc7362</td>\n",
              "      <td>...</td>\n",
              "      <td>NaN</td>\n",
              "      <td>Nice</td>\n",
              "      <td>1</td>\n",
              "      <td>0.0</td>\n",
              "      <td>2023-08-07 18:03:09</td>\n",
              "      <td>NaN</td>\n",
              "      <td>NaN</td>\n",
              "      <td>NaN</td>\n",
              "      <td>en</td>\n",
              "      <td>us</td>\n",
              "    </tr>\n",
              "    <tr>\n",
              "      <th>1</th>\n",
              "      <td>1</td>\n",
              "      <td>0.0</td>\n",
              "      <td>0.633</td>\n",
              "      <td>0.367</td>\n",
              "      <td>0.4404</td>\n",
              "      <td>0.446364</td>\n",
              "      <td>0.368028</td>\n",
              "      <td>0.185608</td>\n",
              "      <td>Google Play</td>\n",
              "      <td>6deb8265-2bac-4524-bcb6-f90829fa4e69</td>\n",
              "      <td>...</td>\n",
              "      <td>NaN</td>\n",
              "      <td>Weak copy of Twitter</td>\n",
              "      <td>1</td>\n",
              "      <td>0.0</td>\n",
              "      <td>2023-08-07 19:07:04</td>\n",
              "      <td>NaN</td>\n",
              "      <td>NaN</td>\n",
              "      <td>NaN</td>\n",
              "      <td>en</td>\n",
              "      <td>us</td>\n",
              "    </tr>\n",
              "    <tr>\n",
              "      <th>2</th>\n",
              "      <td>3</td>\n",
              "      <td>0.0</td>\n",
              "      <td>0.689</td>\n",
              "      <td>0.311</td>\n",
              "      <td>0.7291</td>\n",
              "      <td>0.003242</td>\n",
              "      <td>0.023324</td>\n",
              "      <td>0.973434</td>\n",
              "      <td>Google Play</td>\n",
              "      <td>b7721b78-6b77-4f8c-a1d3-a854af4c1f0f</td>\n",
              "      <td>...</td>\n",
              "      <td>NaN</td>\n",
              "      <td>Love it</td>\n",
              "      <td>5</td>\n",
              "      <td>0.0</td>\n",
              "      <td>2023-08-07 18:37:16</td>\n",
              "      <td>NaN</td>\n",
              "      <td>NaN</td>\n",
              "      <td>NaN</td>\n",
              "      <td>en</td>\n",
              "      <td>us</td>\n",
              "    </tr>\n",
              "    <tr>\n",
              "      <th>3</th>\n",
              "      <td>2</td>\n",
              "      <td>0.0</td>\n",
              "      <td>0.670</td>\n",
              "      <td>0.330</td>\n",
              "      <td>0.8126</td>\n",
              "      <td>0.308370</td>\n",
              "      <td>0.495720</td>\n",
              "      <td>0.195911</td>\n",
              "      <td>Google Play</td>\n",
              "      <td>91ef61ce-0f05-4f3b-b3d3-5d19cd408ab8</td>\n",
              "      <td>...</td>\n",
              "      <td>NaN</td>\n",
              "      <td>i wish threads have a save button for images a...</td>\n",
              "      <td>3</td>\n",
              "      <td>0.0</td>\n",
              "      <td>2023-08-07 18:57:07</td>\n",
              "      <td>NaN</td>\n",
              "      <td>NaN</td>\n",
              "      <td>294.0.0.27.110</td>\n",
              "      <td>en</td>\n",
              "      <td>us</td>\n",
              "    </tr>\n",
              "    <tr>\n",
              "      <th>4</th>\n",
              "      <td>4</td>\n",
              "      <td>0.0</td>\n",
              "      <td>0.000</td>\n",
              "      <td>1.000</td>\n",
              "      <td>0.4404</td>\n",
              "      <td>0.126004</td>\n",
              "      <td>0.559926</td>\n",
              "      <td>0.314070</td>\n",
              "      <td>Google Play</td>\n",
              "      <td>c89ef522-c94c-4171-878f-1d672dce7f11</td>\n",
              "      <td>...</td>\n",
              "      <td>NaN</td>\n",
              "      <td>Very god</td>\n",
              "      <td>5</td>\n",
              "      <td>0.0</td>\n",
              "      <td>2023-08-07 18:14:15</td>\n",
              "      <td>NaN</td>\n",
              "      <td>NaN</td>\n",
              "      <td>NaN</td>\n",
              "      <td>en</td>\n",
              "      <td>us</td>\n",
              "    </tr>\n",
              "  </tbody>\n",
              "</table>\n",
              "<p>5 rows × 21 columns</p>\n",
              "</div>\n",
              "    <div class=\"colab-df-buttons\">\n",
              "\n",
              "  <div class=\"colab-df-container\">\n",
              "    <button class=\"colab-df-convert\" onclick=\"convertToInteractive('df-77922af5-6997-4d50-a937-c76788247999')\"\n",
              "            title=\"Convert this dataframe to an interactive table.\"\n",
              "            style=\"display:none;\">\n",
              "\n",
              "  <svg xmlns=\"http://www.w3.org/2000/svg\" height=\"24px\" viewBox=\"0 -960 960 960\">\n",
              "    <path d=\"M120-120v-720h720v720H120Zm60-500h600v-160H180v160Zm220 220h160v-160H400v160Zm0 220h160v-160H400v160ZM180-400h160v-160H180v160Zm440 0h160v-160H620v160ZM180-180h160v-160H180v160Zm440 0h160v-160H620v160Z\"/>\n",
              "  </svg>\n",
              "    </button>\n",
              "\n",
              "  <style>\n",
              "    .colab-df-container {\n",
              "      display:flex;\n",
              "      gap: 12px;\n",
              "    }\n",
              "\n",
              "    .colab-df-convert {\n",
              "      background-color: #E8F0FE;\n",
              "      border: none;\n",
              "      border-radius: 50%;\n",
              "      cursor: pointer;\n",
              "      display: none;\n",
              "      fill: #1967D2;\n",
              "      height: 32px;\n",
              "      padding: 0 0 0 0;\n",
              "      width: 32px;\n",
              "    }\n",
              "\n",
              "    .colab-df-convert:hover {\n",
              "      background-color: #E2EBFA;\n",
              "      box-shadow: 0px 1px 2px rgba(60, 64, 67, 0.3), 0px 1px 3px 1px rgba(60, 64, 67, 0.15);\n",
              "      fill: #174EA6;\n",
              "    }\n",
              "\n",
              "    .colab-df-buttons div {\n",
              "      margin-bottom: 4px;\n",
              "    }\n",
              "\n",
              "    [theme=dark] .colab-df-convert {\n",
              "      background-color: #3B4455;\n",
              "      fill: #D2E3FC;\n",
              "    }\n",
              "\n",
              "    [theme=dark] .colab-df-convert:hover {\n",
              "      background-color: #434B5C;\n",
              "      box-shadow: 0px 1px 3px 1px rgba(0, 0, 0, 0.15);\n",
              "      filter: drop-shadow(0px 1px 2px rgba(0, 0, 0, 0.3));\n",
              "      fill: #FFFFFF;\n",
              "    }\n",
              "  </style>\n",
              "\n",
              "    <script>\n",
              "      const buttonEl =\n",
              "        document.querySelector('#df-77922af5-6997-4d50-a937-c76788247999 button.colab-df-convert');\n",
              "      buttonEl.style.display =\n",
              "        google.colab.kernel.accessAllowed ? 'block' : 'none';\n",
              "\n",
              "      async function convertToInteractive(key) {\n",
              "        const element = document.querySelector('#df-77922af5-6997-4d50-a937-c76788247999');\n",
              "        const dataTable =\n",
              "          await google.colab.kernel.invokeFunction('convertToInteractive',\n",
              "                                                    [key], {});\n",
              "        if (!dataTable) return;\n",
              "\n",
              "        const docLinkHtml = 'Like what you see? Visit the ' +\n",
              "          '<a target=\"_blank\" href=https://colab.research.google.com/notebooks/data_table.ipynb>data table notebook</a>'\n",
              "          + ' to learn more about interactive tables.';\n",
              "        element.innerHTML = '';\n",
              "        dataTable['output_type'] = 'display_data';\n",
              "        await google.colab.output.renderOutput(dataTable, element);\n",
              "        const docLink = document.createElement('div');\n",
              "        docLink.innerHTML = docLinkHtml;\n",
              "        element.appendChild(docLink);\n",
              "      }\n",
              "    </script>\n",
              "  </div>\n",
              "\n",
              "\n",
              "<div id=\"df-04ab8c36-1ade-480b-8116-3c078dff7cbe\">\n",
              "  <button class=\"colab-df-quickchart\" onclick=\"quickchart('df-04ab8c36-1ade-480b-8116-3c078dff7cbe')\"\n",
              "            title=\"Suggest charts\"\n",
              "            style=\"display:none;\">\n",
              "\n",
              "<svg xmlns=\"http://www.w3.org/2000/svg\" height=\"24px\"viewBox=\"0 0 24 24\"\n",
              "     width=\"24px\">\n",
              "    <g>\n",
              "        <path d=\"M19 3H5c-1.1 0-2 .9-2 2v14c0 1.1.9 2 2 2h14c1.1 0 2-.9 2-2V5c0-1.1-.9-2-2-2zM9 17H7v-7h2v7zm4 0h-2V7h2v10zm4 0h-2v-4h2v4z\"/>\n",
              "    </g>\n",
              "</svg>\n",
              "  </button>\n",
              "\n",
              "<style>\n",
              "  .colab-df-quickchart {\n",
              "      --bg-color: #E8F0FE;\n",
              "      --fill-color: #1967D2;\n",
              "      --hover-bg-color: #E2EBFA;\n",
              "      --hover-fill-color: #174EA6;\n",
              "      --disabled-fill-color: #AAA;\n",
              "      --disabled-bg-color: #DDD;\n",
              "  }\n",
              "\n",
              "  [theme=dark] .colab-df-quickchart {\n",
              "      --bg-color: #3B4455;\n",
              "      --fill-color: #D2E3FC;\n",
              "      --hover-bg-color: #434B5C;\n",
              "      --hover-fill-color: #FFFFFF;\n",
              "      --disabled-bg-color: #3B4455;\n",
              "      --disabled-fill-color: #666;\n",
              "  }\n",
              "\n",
              "  .colab-df-quickchart {\n",
              "    background-color: var(--bg-color);\n",
              "    border: none;\n",
              "    border-radius: 50%;\n",
              "    cursor: pointer;\n",
              "    display: none;\n",
              "    fill: var(--fill-color);\n",
              "    height: 32px;\n",
              "    padding: 0;\n",
              "    width: 32px;\n",
              "  }\n",
              "\n",
              "  .colab-df-quickchart:hover {\n",
              "    background-color: var(--hover-bg-color);\n",
              "    box-shadow: 0 1px 2px rgba(60, 64, 67, 0.3), 0 1px 3px 1px rgba(60, 64, 67, 0.15);\n",
              "    fill: var(--button-hover-fill-color);\n",
              "  }\n",
              "\n",
              "  .colab-df-quickchart-complete:disabled,\n",
              "  .colab-df-quickchart-complete:disabled:hover {\n",
              "    background-color: var(--disabled-bg-color);\n",
              "    fill: var(--disabled-fill-color);\n",
              "    box-shadow: none;\n",
              "  }\n",
              "\n",
              "  .colab-df-spinner {\n",
              "    border: 2px solid var(--fill-color);\n",
              "    border-color: transparent;\n",
              "    border-bottom-color: var(--fill-color);\n",
              "    animation:\n",
              "      spin 1s steps(1) infinite;\n",
              "  }\n",
              "\n",
              "  @keyframes spin {\n",
              "    0% {\n",
              "      border-color: transparent;\n",
              "      border-bottom-color: var(--fill-color);\n",
              "      border-left-color: var(--fill-color);\n",
              "    }\n",
              "    20% {\n",
              "      border-color: transparent;\n",
              "      border-left-color: var(--fill-color);\n",
              "      border-top-color: var(--fill-color);\n",
              "    }\n",
              "    30% {\n",
              "      border-color: transparent;\n",
              "      border-left-color: var(--fill-color);\n",
              "      border-top-color: var(--fill-color);\n",
              "      border-right-color: var(--fill-color);\n",
              "    }\n",
              "    40% {\n",
              "      border-color: transparent;\n",
              "      border-right-color: var(--fill-color);\n",
              "      border-top-color: var(--fill-color);\n",
              "    }\n",
              "    60% {\n",
              "      border-color: transparent;\n",
              "      border-right-color: var(--fill-color);\n",
              "    }\n",
              "    80% {\n",
              "      border-color: transparent;\n",
              "      border-right-color: var(--fill-color);\n",
              "      border-bottom-color: var(--fill-color);\n",
              "    }\n",
              "    90% {\n",
              "      border-color: transparent;\n",
              "      border-bottom-color: var(--fill-color);\n",
              "    }\n",
              "  }\n",
              "</style>\n",
              "\n",
              "  <script>\n",
              "    async function quickchart(key) {\n",
              "      const quickchartButtonEl =\n",
              "        document.querySelector('#' + key + ' button');\n",
              "      quickchartButtonEl.disabled = true;  // To prevent multiple clicks.\n",
              "      quickchartButtonEl.classList.add('colab-df-spinner');\n",
              "      try {\n",
              "        const charts = await google.colab.kernel.invokeFunction(\n",
              "            'suggestCharts', [key], {});\n",
              "      } catch (error) {\n",
              "        console.error('Error during call to suggestCharts:', error);\n",
              "      }\n",
              "      quickchartButtonEl.classList.remove('colab-df-spinner');\n",
              "      quickchartButtonEl.classList.add('colab-df-quickchart-complete');\n",
              "    }\n",
              "    (() => {\n",
              "      let quickchartButtonEl =\n",
              "        document.querySelector('#df-04ab8c36-1ade-480b-8116-3c078dff7cbe button');\n",
              "      quickchartButtonEl.style.display =\n",
              "        google.colab.kernel.accessAllowed ? 'block' : 'none';\n",
              "    })();\n",
              "  </script>\n",
              "</div>\n",
              "\n",
              "    </div>\n",
              "  </div>\n"
            ],
            "application/vnd.google.colaboratory.intrinsic+json": {
              "type": "dataframe",
              "variable_name": "results_df"
            }
          },
          "metadata": {},
          "execution_count": 125
        }
      ]
    },
    {
      "cell_type": "markdown",
      "source": [
        "# Compare Scores between models"
      ],
      "metadata": {
        "id": "CI0EKlejksam"
      }
    },
    {
      "cell_type": "code",
      "source": [
        "results_df.columns"
      ],
      "metadata": {
        "colab": {
          "base_uri": "https://localhost:8080/"
        },
        "id": "AyG7_0OtkiTO",
        "outputId": "75e9ae53-0443-49e4-c3ba-c9ffdac89ab9"
      },
      "execution_count": 126,
      "outputs": [
        {
          "output_type": "execute_result",
          "data": {
            "text/plain": [
              "Index(['index', 'vader_neg', 'vader_neu', 'vader_pos', 'vader_compound',\n",
              "       'roberta_neg', 'roberta_neu', 'roberta_pos', 'source', 'review_id',\n",
              "       'user_name', 'review_title', 'review_description', 'rating',\n",
              "       'thumbs_up', 'review_date', 'developer_response',\n",
              "       'developer_response_date', 'appVersion', 'laguage_code',\n",
              "       'country_code'],\n",
              "      dtype='object')"
            ]
          },
          "metadata": {},
          "execution_count": 126
        }
      ]
    },
    {
      "cell_type": "code",
      "source": [
        "results_df = pd.DataFrame(res).T\n",
        "results_df = results_df.reset_index().rename(columns={'index': 'rating'})\n",
        "results_df = results_df.merge(df, how='left')\n",
        "results_df.head()"
      ],
      "metadata": {
        "colab": {
          "base_uri": "https://localhost:8080/",
          "height": 342
        },
        "id": "aNvWUjO4nm7E",
        "outputId": "6d4d5075-2775-43f8-81e0-bc29a2819424"
      },
      "execution_count": 127,
      "outputs": [
        {
          "output_type": "execute_result",
          "data": {
            "text/plain": [
              "   rating  vader_neg  vader_neu  vader_pos  vader_compound  roberta_neg  \\\n",
              "0       5        0.0      0.192      0.808          0.6369     0.012817   \n",
              "1       5        0.0      0.192      0.808          0.6369     0.012817   \n",
              "2       5        0.0      0.192      0.808          0.6369     0.012817   \n",
              "3       5        0.0      0.192      0.808          0.6369     0.012817   \n",
              "4       5        0.0      0.192      0.808          0.6369     0.012817   \n",
              "\n",
              "   roberta_neu  roberta_pos  index       source  ...        user_name  \\\n",
              "0     0.180937     0.806246      0  Google Play  ...  Eddie Clark Jr.   \n",
              "1     0.180937     0.806246      3  Google Play  ...    Asap Khalifah   \n",
              "2     0.180937     0.806246      4  Google Play  ...     Syed Hussein   \n",
              "3     0.180937     0.806246     10  Google Play  ...    Deborah Black   \n",
              "4     0.180937     0.806246     11  Google Play  ...    Faisal Pathan   \n",
              "\n",
              "  review_title review_description thumbs_up          review_date  \\\n",
              "0          NaN               Good       0.0  2023-08-07 19:14:36   \n",
              "1          NaN            Love it       0.0  2023-08-07 18:37:16   \n",
              "2          NaN           Very god       0.0  2023-08-07 18:14:15   \n",
              "3          NaN        I love it 💞       0.0  2023-08-07 17:22:27   \n",
              "4          NaN                Osm       0.0  2023-08-07 16:29:58   \n",
              "\n",
              "  developer_response  developer_response_date      appVersion laguage_code  \\\n",
              "0                NaN                      NaN  294.0.0.27.110           en   \n",
              "1                NaN                      NaN             NaN           en   \n",
              "2                NaN                      NaN             NaN           en   \n",
              "3                NaN                      NaN  294.0.0.27.110           en   \n",
              "4                NaN                      NaN  294.0.0.27.110           en   \n",
              "\n",
              "  country_code  \n",
              "0           us  \n",
              "1           us  \n",
              "2           us  \n",
              "3           us  \n",
              "4           us  \n",
              "\n",
              "[5 rows x 21 columns]"
            ],
            "text/html": [
              "\n",
              "  <div id=\"df-7f1f0313-a388-4ffc-8325-f6bfa89c72ff\" class=\"colab-df-container\">\n",
              "    <div>\n",
              "<style scoped>\n",
              "    .dataframe tbody tr th:only-of-type {\n",
              "        vertical-align: middle;\n",
              "    }\n",
              "\n",
              "    .dataframe tbody tr th {\n",
              "        vertical-align: top;\n",
              "    }\n",
              "\n",
              "    .dataframe thead th {\n",
              "        text-align: right;\n",
              "    }\n",
              "</style>\n",
              "<table border=\"1\" class=\"dataframe\">\n",
              "  <thead>\n",
              "    <tr style=\"text-align: right;\">\n",
              "      <th></th>\n",
              "      <th>rating</th>\n",
              "      <th>vader_neg</th>\n",
              "      <th>vader_neu</th>\n",
              "      <th>vader_pos</th>\n",
              "      <th>vader_compound</th>\n",
              "      <th>roberta_neg</th>\n",
              "      <th>roberta_neu</th>\n",
              "      <th>roberta_pos</th>\n",
              "      <th>index</th>\n",
              "      <th>source</th>\n",
              "      <th>...</th>\n",
              "      <th>user_name</th>\n",
              "      <th>review_title</th>\n",
              "      <th>review_description</th>\n",
              "      <th>thumbs_up</th>\n",
              "      <th>review_date</th>\n",
              "      <th>developer_response</th>\n",
              "      <th>developer_response_date</th>\n",
              "      <th>appVersion</th>\n",
              "      <th>laguage_code</th>\n",
              "      <th>country_code</th>\n",
              "    </tr>\n",
              "  </thead>\n",
              "  <tbody>\n",
              "    <tr>\n",
              "      <th>0</th>\n",
              "      <td>5</td>\n",
              "      <td>0.0</td>\n",
              "      <td>0.192</td>\n",
              "      <td>0.808</td>\n",
              "      <td>0.6369</td>\n",
              "      <td>0.012817</td>\n",
              "      <td>0.180937</td>\n",
              "      <td>0.806246</td>\n",
              "      <td>0</td>\n",
              "      <td>Google Play</td>\n",
              "      <td>...</td>\n",
              "      <td>Eddie Clark Jr.</td>\n",
              "      <td>NaN</td>\n",
              "      <td>Good</td>\n",
              "      <td>0.0</td>\n",
              "      <td>2023-08-07 19:14:36</td>\n",
              "      <td>NaN</td>\n",
              "      <td>NaN</td>\n",
              "      <td>294.0.0.27.110</td>\n",
              "      <td>en</td>\n",
              "      <td>us</td>\n",
              "    </tr>\n",
              "    <tr>\n",
              "      <th>1</th>\n",
              "      <td>5</td>\n",
              "      <td>0.0</td>\n",
              "      <td>0.192</td>\n",
              "      <td>0.808</td>\n",
              "      <td>0.6369</td>\n",
              "      <td>0.012817</td>\n",
              "      <td>0.180937</td>\n",
              "      <td>0.806246</td>\n",
              "      <td>3</td>\n",
              "      <td>Google Play</td>\n",
              "      <td>...</td>\n",
              "      <td>Asap Khalifah</td>\n",
              "      <td>NaN</td>\n",
              "      <td>Love it</td>\n",
              "      <td>0.0</td>\n",
              "      <td>2023-08-07 18:37:16</td>\n",
              "      <td>NaN</td>\n",
              "      <td>NaN</td>\n",
              "      <td>NaN</td>\n",
              "      <td>en</td>\n",
              "      <td>us</td>\n",
              "    </tr>\n",
              "    <tr>\n",
              "      <th>2</th>\n",
              "      <td>5</td>\n",
              "      <td>0.0</td>\n",
              "      <td>0.192</td>\n",
              "      <td>0.808</td>\n",
              "      <td>0.6369</td>\n",
              "      <td>0.012817</td>\n",
              "      <td>0.180937</td>\n",
              "      <td>0.806246</td>\n",
              "      <td>4</td>\n",
              "      <td>Google Play</td>\n",
              "      <td>...</td>\n",
              "      <td>Syed Hussein</td>\n",
              "      <td>NaN</td>\n",
              "      <td>Very god</td>\n",
              "      <td>0.0</td>\n",
              "      <td>2023-08-07 18:14:15</td>\n",
              "      <td>NaN</td>\n",
              "      <td>NaN</td>\n",
              "      <td>NaN</td>\n",
              "      <td>en</td>\n",
              "      <td>us</td>\n",
              "    </tr>\n",
              "    <tr>\n",
              "      <th>3</th>\n",
              "      <td>5</td>\n",
              "      <td>0.0</td>\n",
              "      <td>0.192</td>\n",
              "      <td>0.808</td>\n",
              "      <td>0.6369</td>\n",
              "      <td>0.012817</td>\n",
              "      <td>0.180937</td>\n",
              "      <td>0.806246</td>\n",
              "      <td>10</td>\n",
              "      <td>Google Play</td>\n",
              "      <td>...</td>\n",
              "      <td>Deborah Black</td>\n",
              "      <td>NaN</td>\n",
              "      <td>I love it 💞</td>\n",
              "      <td>0.0</td>\n",
              "      <td>2023-08-07 17:22:27</td>\n",
              "      <td>NaN</td>\n",
              "      <td>NaN</td>\n",
              "      <td>294.0.0.27.110</td>\n",
              "      <td>en</td>\n",
              "      <td>us</td>\n",
              "    </tr>\n",
              "    <tr>\n",
              "      <th>4</th>\n",
              "      <td>5</td>\n",
              "      <td>0.0</td>\n",
              "      <td>0.192</td>\n",
              "      <td>0.808</td>\n",
              "      <td>0.6369</td>\n",
              "      <td>0.012817</td>\n",
              "      <td>0.180937</td>\n",
              "      <td>0.806246</td>\n",
              "      <td>11</td>\n",
              "      <td>Google Play</td>\n",
              "      <td>...</td>\n",
              "      <td>Faisal Pathan</td>\n",
              "      <td>NaN</td>\n",
              "      <td>Osm</td>\n",
              "      <td>0.0</td>\n",
              "      <td>2023-08-07 16:29:58</td>\n",
              "      <td>NaN</td>\n",
              "      <td>NaN</td>\n",
              "      <td>294.0.0.27.110</td>\n",
              "      <td>en</td>\n",
              "      <td>us</td>\n",
              "    </tr>\n",
              "  </tbody>\n",
              "</table>\n",
              "<p>5 rows × 21 columns</p>\n",
              "</div>\n",
              "    <div class=\"colab-df-buttons\">\n",
              "\n",
              "  <div class=\"colab-df-container\">\n",
              "    <button class=\"colab-df-convert\" onclick=\"convertToInteractive('df-7f1f0313-a388-4ffc-8325-f6bfa89c72ff')\"\n",
              "            title=\"Convert this dataframe to an interactive table.\"\n",
              "            style=\"display:none;\">\n",
              "\n",
              "  <svg xmlns=\"http://www.w3.org/2000/svg\" height=\"24px\" viewBox=\"0 -960 960 960\">\n",
              "    <path d=\"M120-120v-720h720v720H120Zm60-500h600v-160H180v160Zm220 220h160v-160H400v160Zm0 220h160v-160H400v160ZM180-400h160v-160H180v160Zm440 0h160v-160H620v160ZM180-180h160v-160H180v160Zm440 0h160v-160H620v160Z\"/>\n",
              "  </svg>\n",
              "    </button>\n",
              "\n",
              "  <style>\n",
              "    .colab-df-container {\n",
              "      display:flex;\n",
              "      gap: 12px;\n",
              "    }\n",
              "\n",
              "    .colab-df-convert {\n",
              "      background-color: #E8F0FE;\n",
              "      border: none;\n",
              "      border-radius: 50%;\n",
              "      cursor: pointer;\n",
              "      display: none;\n",
              "      fill: #1967D2;\n",
              "      height: 32px;\n",
              "      padding: 0 0 0 0;\n",
              "      width: 32px;\n",
              "    }\n",
              "\n",
              "    .colab-df-convert:hover {\n",
              "      background-color: #E2EBFA;\n",
              "      box-shadow: 0px 1px 2px rgba(60, 64, 67, 0.3), 0px 1px 3px 1px rgba(60, 64, 67, 0.15);\n",
              "      fill: #174EA6;\n",
              "    }\n",
              "\n",
              "    .colab-df-buttons div {\n",
              "      margin-bottom: 4px;\n",
              "    }\n",
              "\n",
              "    [theme=dark] .colab-df-convert {\n",
              "      background-color: #3B4455;\n",
              "      fill: #D2E3FC;\n",
              "    }\n",
              "\n",
              "    [theme=dark] .colab-df-convert:hover {\n",
              "      background-color: #434B5C;\n",
              "      box-shadow: 0px 1px 3px 1px rgba(0, 0, 0, 0.15);\n",
              "      filter: drop-shadow(0px 1px 2px rgba(0, 0, 0, 0.3));\n",
              "      fill: #FFFFFF;\n",
              "    }\n",
              "  </style>\n",
              "\n",
              "    <script>\n",
              "      const buttonEl =\n",
              "        document.querySelector('#df-7f1f0313-a388-4ffc-8325-f6bfa89c72ff button.colab-df-convert');\n",
              "      buttonEl.style.display =\n",
              "        google.colab.kernel.accessAllowed ? 'block' : 'none';\n",
              "\n",
              "      async function convertToInteractive(key) {\n",
              "        const element = document.querySelector('#df-7f1f0313-a388-4ffc-8325-f6bfa89c72ff');\n",
              "        const dataTable =\n",
              "          await google.colab.kernel.invokeFunction('convertToInteractive',\n",
              "                                                    [key], {});\n",
              "        if (!dataTable) return;\n",
              "\n",
              "        const docLinkHtml = 'Like what you see? Visit the ' +\n",
              "          '<a target=\"_blank\" href=https://colab.research.google.com/notebooks/data_table.ipynb>data table notebook</a>'\n",
              "          + ' to learn more about interactive tables.';\n",
              "        element.innerHTML = '';\n",
              "        dataTable['output_type'] = 'display_data';\n",
              "        await google.colab.output.renderOutput(dataTable, element);\n",
              "        const docLink = document.createElement('div');\n",
              "        docLink.innerHTML = docLinkHtml;\n",
              "        element.appendChild(docLink);\n",
              "      }\n",
              "    </script>\n",
              "  </div>\n",
              "\n",
              "\n",
              "<div id=\"df-0cf7e3f1-fe29-43b6-80e5-5800c2be5d28\">\n",
              "  <button class=\"colab-df-quickchart\" onclick=\"quickchart('df-0cf7e3f1-fe29-43b6-80e5-5800c2be5d28')\"\n",
              "            title=\"Suggest charts\"\n",
              "            style=\"display:none;\">\n",
              "\n",
              "<svg xmlns=\"http://www.w3.org/2000/svg\" height=\"24px\"viewBox=\"0 0 24 24\"\n",
              "     width=\"24px\">\n",
              "    <g>\n",
              "        <path d=\"M19 3H5c-1.1 0-2 .9-2 2v14c0 1.1.9 2 2 2h14c1.1 0 2-.9 2-2V5c0-1.1-.9-2-2-2zM9 17H7v-7h2v7zm4 0h-2V7h2v10zm4 0h-2v-4h2v4z\"/>\n",
              "    </g>\n",
              "</svg>\n",
              "  </button>\n",
              "\n",
              "<style>\n",
              "  .colab-df-quickchart {\n",
              "      --bg-color: #E8F0FE;\n",
              "      --fill-color: #1967D2;\n",
              "      --hover-bg-color: #E2EBFA;\n",
              "      --hover-fill-color: #174EA6;\n",
              "      --disabled-fill-color: #AAA;\n",
              "      --disabled-bg-color: #DDD;\n",
              "  }\n",
              "\n",
              "  [theme=dark] .colab-df-quickchart {\n",
              "      --bg-color: #3B4455;\n",
              "      --fill-color: #D2E3FC;\n",
              "      --hover-bg-color: #434B5C;\n",
              "      --hover-fill-color: #FFFFFF;\n",
              "      --disabled-bg-color: #3B4455;\n",
              "      --disabled-fill-color: #666;\n",
              "  }\n",
              "\n",
              "  .colab-df-quickchart {\n",
              "    background-color: var(--bg-color);\n",
              "    border: none;\n",
              "    border-radius: 50%;\n",
              "    cursor: pointer;\n",
              "    display: none;\n",
              "    fill: var(--fill-color);\n",
              "    height: 32px;\n",
              "    padding: 0;\n",
              "    width: 32px;\n",
              "  }\n",
              "\n",
              "  .colab-df-quickchart:hover {\n",
              "    background-color: var(--hover-bg-color);\n",
              "    box-shadow: 0 1px 2px rgba(60, 64, 67, 0.3), 0 1px 3px 1px rgba(60, 64, 67, 0.15);\n",
              "    fill: var(--button-hover-fill-color);\n",
              "  }\n",
              "\n",
              "  .colab-df-quickchart-complete:disabled,\n",
              "  .colab-df-quickchart-complete:disabled:hover {\n",
              "    background-color: var(--disabled-bg-color);\n",
              "    fill: var(--disabled-fill-color);\n",
              "    box-shadow: none;\n",
              "  }\n",
              "\n",
              "  .colab-df-spinner {\n",
              "    border: 2px solid var(--fill-color);\n",
              "    border-color: transparent;\n",
              "    border-bottom-color: var(--fill-color);\n",
              "    animation:\n",
              "      spin 1s steps(1) infinite;\n",
              "  }\n",
              "\n",
              "  @keyframes spin {\n",
              "    0% {\n",
              "      border-color: transparent;\n",
              "      border-bottom-color: var(--fill-color);\n",
              "      border-left-color: var(--fill-color);\n",
              "    }\n",
              "    20% {\n",
              "      border-color: transparent;\n",
              "      border-left-color: var(--fill-color);\n",
              "      border-top-color: var(--fill-color);\n",
              "    }\n",
              "    30% {\n",
              "      border-color: transparent;\n",
              "      border-left-color: var(--fill-color);\n",
              "      border-top-color: var(--fill-color);\n",
              "      border-right-color: var(--fill-color);\n",
              "    }\n",
              "    40% {\n",
              "      border-color: transparent;\n",
              "      border-right-color: var(--fill-color);\n",
              "      border-top-color: var(--fill-color);\n",
              "    }\n",
              "    60% {\n",
              "      border-color: transparent;\n",
              "      border-right-color: var(--fill-color);\n",
              "    }\n",
              "    80% {\n",
              "      border-color: transparent;\n",
              "      border-right-color: var(--fill-color);\n",
              "      border-bottom-color: var(--fill-color);\n",
              "    }\n",
              "    90% {\n",
              "      border-color: transparent;\n",
              "      border-bottom-color: var(--fill-color);\n",
              "    }\n",
              "  }\n",
              "</style>\n",
              "\n",
              "  <script>\n",
              "    async function quickchart(key) {\n",
              "      const quickchartButtonEl =\n",
              "        document.querySelector('#' + key + ' button');\n",
              "      quickchartButtonEl.disabled = true;  // To prevent multiple clicks.\n",
              "      quickchartButtonEl.classList.add('colab-df-spinner');\n",
              "      try {\n",
              "        const charts = await google.colab.kernel.invokeFunction(\n",
              "            'suggestCharts', [key], {});\n",
              "      } catch (error) {\n",
              "        console.error('Error during call to suggestCharts:', error);\n",
              "      }\n",
              "      quickchartButtonEl.classList.remove('colab-df-spinner');\n",
              "      quickchartButtonEl.classList.add('colab-df-quickchart-complete');\n",
              "    }\n",
              "    (() => {\n",
              "      let quickchartButtonEl =\n",
              "        document.querySelector('#df-0cf7e3f1-fe29-43b6-80e5-5800c2be5d28 button');\n",
              "      quickchartButtonEl.style.display =\n",
              "        google.colab.kernel.accessAllowed ? 'block' : 'none';\n",
              "    })();\n",
              "  </script>\n",
              "</div>\n",
              "\n",
              "    </div>\n",
              "  </div>\n"
            ],
            "application/vnd.google.colaboratory.intrinsic+json": {
              "type": "dataframe",
              "variable_name": "results_df"
            }
          },
          "metadata": {},
          "execution_count": 127
        }
      ]
    },
    {
      "cell_type": "code",
      "source": [
        "#JUST TO UNDERSTAND\n",
        "\n",
        "vader_r_rename = {'va': 1, 'vb': 2}\n",
        "roberta_r = {'rb': 3, 'rc': 4}\n",
        "\n",
        "both = {**vader_r_rename, **roberta_r}\n",
        "\n",
        "print(both)"
      ],
      "metadata": {
        "colab": {
          "base_uri": "https://localhost:8080/"
        },
        "id": "mx0haTQMkutf",
        "outputId": "21c9ec83-5a83-4f2b-9c22-7571fe2d8f67"
      },
      "execution_count": 131,
      "outputs": [
        {
          "output_type": "stream",
          "name": "stdout",
          "text": [
            "{'va': 1, 'vb': 2, 'rb': 3, 'rc': 4}\n"
          ]
        }
      ]
    },
    {
      "cell_type": "code",
      "source": [
        "print(results_df.columns)\n"
      ],
      "metadata": {
        "colab": {
          "base_uri": "https://localhost:8080/"
        },
        "id": "GlrTQInflNjZ",
        "outputId": "0d5245a8-25a5-4790-c587-2196495ffb69"
      },
      "execution_count": 132,
      "outputs": [
        {
          "output_type": "stream",
          "name": "stdout",
          "text": [
            "Index(['rating', 'vader_neg', 'vader_neu', 'vader_pos', 'vader_compound',\n",
            "       'roberta_neg', 'roberta_neu', 'roberta_pos', 'index', 'source',\n",
            "       'review_id', 'user_name', 'review_title', 'review_description',\n",
            "       'thumbs_up', 'review_date', 'developer_response',\n",
            "       'developer_response_date', 'appVersion', 'laguage_code',\n",
            "       'country_code'],\n",
            "      dtype='object')\n"
          ]
        }
      ]
    },
    {
      "cell_type": "code",
      "source": [
        "sns.pairplot(data=results_df,\n",
        "             vars=['vader_neg', 'vader_neu', 'vader_pos',\n",
        "                   'roberta_neg', 'roberta_neu', 'roberta_pos'],\n",
        "             hue='rating',\n",
        "             palette='tab10')\n",
        "plt.show()"
      ],
      "metadata": {
        "colab": {
          "base_uri": "https://localhost:8080/",
          "height": 1000
        },
        "id": "W2tH4u7SnRGQ",
        "outputId": "6b3d14e7-777e-4608-fbd3-8108cc71e0e3"
      },
      "execution_count": 135,
      "outputs": [
        {
          "output_type": "display_data",
          "data": {
            "text/plain": [
              "<Figure size 1558.88x1500 with 42 Axes>"
            ],
            "image/png": "[encoded data removed]"
          },
          "metadata": {}
        }
      ]
    },
    {
      "cell_type": "markdown",
      "source": [
        "# Step 4: Review Examples:\n",
        "Positive 1-Star and Negative 5-Star Reviews\n",
        "Lets look at some examples where the model scoring and review score differ the most.\n",
        "\n"
      ],
      "metadata": {
        "id": "4ebDuqWVx9e1"
      }
    },
    {
      "cell_type": "code",
      "source": [
        "results_df.query('index == 1') \\\n",
        "    .sort_values('roberta_pos', ascending=False)['review_description'].values[0]"
      ],
      "metadata": {
        "colab": {
          "base_uri": "https://localhost:8080/",
          "height": 35
        },
        "id": "ux0aArQwnXtO",
        "outputId": "21b800b8-d39b-431a-fd3d-a11a25f54713"
      },
      "execution_count": 137,
      "outputs": [
        {
          "output_type": "execute_result",
          "data": {
            "text/plain": [
              "'Weak copy of Twitter'"
            ],
            "application/vnd.google.colaboratory.intrinsic+json": {
              "type": "string"
            }
          },
          "metadata": {},
          "execution_count": 137
        }
      ]
    },
    {
      "cell_type": "code",
      "source": [
        "results_df.query('index == 1') \\\n",
        "    .sort_values('roberta_pos', ascending=False)['review_description'].values[0]"
      ],
      "metadata": {
        "colab": {
          "base_uri": "https://localhost:8080/",
          "height": 35
        },
        "id": "a-RrGjf4yGM9",
        "outputId": "ee4507a5-bb7f-4b74-ecda-635e2754004d"
      },
      "execution_count": 138,
      "outputs": [
        {
          "output_type": "execute_result",
          "data": {
            "text/plain": [
              "'Weak copy of Twitter'"
            ],
            "application/vnd.google.colaboratory.intrinsic+json": {
              "type": "string"
            }
          },
          "metadata": {},
          "execution_count": 138
        }
      ]
    },
    {
      "cell_type": "code",
      "source": [
        "results_df.query('index == 1') \\\n",
        "    .sort_values('vader_pos', ascending=False)['review_description'].values[0]"
      ],
      "metadata": {
        "colab": {
          "base_uri": "https://localhost:8080/",
          "height": 35
        },
        "id": "sO94hwbhyXha",
        "outputId": "474608b7-8a9e-480b-ff34-5fc364f12b1c"
      },
      "execution_count": 140,
      "outputs": [
        {
          "output_type": "execute_result",
          "data": {
            "text/plain": [
              "'Weak copy of Twitter'"
            ],
            "application/vnd.google.colaboratory.intrinsic+json": {
              "type": "string"
            }
          },
          "metadata": {},
          "execution_count": 140
        }
      ]
    },
    {
      "cell_type": "code",
      "source": [
        "results_df.query('index == 4') \\\n",
        "    .sort_values('roberta_neg', ascending=False)['review_description'].values[0]"
      ],
      "metadata": {
        "colab": {
          "base_uri": "https://localhost:8080/",
          "height": 35
        },
        "id": "f-GZkwEK45qC",
        "outputId": "2533eb1e-0a38-4e77-dcad-c7ffefa2dd30"
      },
      "execution_count": 141,
      "outputs": [
        {
          "output_type": "execute_result",
          "data": {
            "text/plain": [
              "'Very god'"
            ],
            "application/vnd.google.colaboratory.intrinsic+json": {
              "type": "string"
            }
          },
          "metadata": {},
          "execution_count": 141
        }
      ]
    },
    {
      "cell_type": "code",
      "source": [
        "results_df.query('index == 4') \\\n",
        "    .sort_values('vader_neg', ascending=False)['review_description'].values[0]"
      ],
      "metadata": {
        "colab": {
          "base_uri": "https://localhost:8080/",
          "height": 35
        },
        "id": "SeMVFDQW5HxN",
        "outputId": "74ba9297-f5f6-4d0d-e488-3123f08bf93e"
      },
      "execution_count": 142,
      "outputs": [
        {
          "output_type": "execute_result",
          "data": {
            "text/plain": [
              "'Very god'"
            ],
            "application/vnd.google.colaboratory.intrinsic+json": {
              "type": "string"
            }
          },
          "metadata": {},
          "execution_count": 142
        }
      ]
    },
    {
      "cell_type": "code",
      "source": [],
      "metadata": {
        "id": "we1f-kq75Ocl"
      },
      "execution_count": null,
      "outputs": []
    }
  ]
}