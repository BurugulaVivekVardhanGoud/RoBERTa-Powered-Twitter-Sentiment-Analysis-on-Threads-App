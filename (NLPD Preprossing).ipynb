{
 "cells": [
  {
   "cell_type": "code",
   "execution_count": 6,
   "id": "f1a2e33c",
   "metadata": {},
   "outputs": [
    {
     "name": "stdout",
     "output_type": "stream",
     "text": [
      "(1000, 14)\n"
     ]
    }
   ],
   "source": [
    "# Read the dataset\n",
    "df = pd.read_csv(\"/Users/vivekvardhan/Documents/37000_reviews_of_thread_app.csv\", encoding='latin1')\n",
    "\n",
    "# Downscale \n",
    "df = df.head(1000)\n",
    "print(df.shape)"
   ]
  },
  {
   "cell_type": "code",
   "execution_count": 7,
   "id": "e83e7b9b",
   "metadata": {},
   "outputs": [
    {
     "data": {
      "text/html": [
       "<div>\n",
       "<style scoped>\n",
       "    .dataframe tbody tr th:only-of-type {\n",
       "        vertical-align: middle;\n",
       "    }\n",
       "\n",
       "    .dataframe tbody tr th {\n",
       "        vertical-align: top;\n",
       "    }\n",
       "\n",
       "    .dataframe thead th {\n",
       "        text-align: right;\n",
       "    }\n",
       "</style>\n",
       "<table border=\"1\" class=\"dataframe\">\n",
       "  <thead>\n",
       "    <tr style=\"text-align: right;\">\n",
       "      <th></th>\n",
       "      <th>Unnamed: 0</th>\n",
       "      <th>source</th>\n",
       "      <th>review_id</th>\n",
       "      <th>user_name</th>\n",
       "      <th>review_title</th>\n",
       "      <th>review_description</th>\n",
       "      <th>rating</th>\n",
       "      <th>thumbs_up</th>\n",
       "      <th>review_date</th>\n",
       "      <th>developer_response</th>\n",
       "      <th>developer_response_date</th>\n",
       "      <th>appVersion</th>\n",
       "      <th>laguage_code</th>\n",
       "      <th>country_code</th>\n",
       "    </tr>\n",
       "  </thead>\n",
       "  <tbody>\n",
       "    <tr>\n",
       "      <th>0</th>\n",
       "      <td>0</td>\n",
       "      <td>Google Play</td>\n",
       "      <td>7cd90e5b-4829-43b9-9fb4-c8c6d1e339c1</td>\n",
       "      <td>Eddie Clark Jr.</td>\n",
       "      <td>NaN</td>\n",
       "      <td>Good</td>\n",
       "      <td>5</td>\n",
       "      <td>0.0</td>\n",
       "      <td>2023-08-07 19:14:36</td>\n",
       "      <td>NaN</td>\n",
       "      <td>NaN</td>\n",
       "      <td>294.0.0.27.110</td>\n",
       "      <td>en</td>\n",
       "      <td>us</td>\n",
       "    </tr>\n",
       "    <tr>\n",
       "      <th>1</th>\n",
       "      <td>1</td>\n",
       "      <td>Google Play</td>\n",
       "      <td>6deb8265-2bac-4524-bcb6-f90829fa4e69</td>\n",
       "      <td>Rasa RT</td>\n",
       "      <td>NaN</td>\n",
       "      <td>Weak copy of Twitter</td>\n",
       "      <td>1</td>\n",
       "      <td>0.0</td>\n",
       "      <td>2023-08-07 19:07:04</td>\n",
       "      <td>NaN</td>\n",
       "      <td>NaN</td>\n",
       "      <td>NaN</td>\n",
       "      <td>en</td>\n",
       "      <td>us</td>\n",
       "    </tr>\n",
       "    <tr>\n",
       "      <th>2</th>\n",
       "      <td>2</td>\n",
       "      <td>Google Play</td>\n",
       "      <td>91ef61ce-0f05-4f3b-b3d3-5d19cd408ab8</td>\n",
       "      <td>SITI NUR HAFIZA BINTI AZIZ</td>\n",
       "      <td>NaN</td>\n",
       "      <td>i wish threads have a save button for images a...</td>\n",
       "      <td>3</td>\n",
       "      <td>0.0</td>\n",
       "      <td>2023-08-07 18:57:07</td>\n",
       "      <td>NaN</td>\n",
       "      <td>NaN</td>\n",
       "      <td>294.0.0.27.110</td>\n",
       "      <td>en</td>\n",
       "      <td>us</td>\n",
       "    </tr>\n",
       "    <tr>\n",
       "      <th>3</th>\n",
       "      <td>3</td>\n",
       "      <td>Google Play</td>\n",
       "      <td>b7721b78-6b77-4f8c-a1d3-a854af4c1f0f</td>\n",
       "      <td>Asap Khalifah</td>\n",
       "      <td>NaN</td>\n",
       "      <td>Love it</td>\n",
       "      <td>5</td>\n",
       "      <td>0.0</td>\n",
       "      <td>2023-08-07 18:37:16</td>\n",
       "      <td>NaN</td>\n",
       "      <td>NaN</td>\n",
       "      <td>NaN</td>\n",
       "      <td>en</td>\n",
       "      <td>us</td>\n",
       "    </tr>\n",
       "    <tr>\n",
       "      <th>4</th>\n",
       "      <td>4</td>\n",
       "      <td>Google Play</td>\n",
       "      <td>c89ef522-c94c-4171-878f-1d672dce7f11</td>\n",
       "      <td>Syed Hussein</td>\n",
       "      <td>NaN</td>\n",
       "      <td>Very god</td>\n",
       "      <td>5</td>\n",
       "      <td>0.0</td>\n",
       "      <td>2023-08-07 18:14:15</td>\n",
       "      <td>NaN</td>\n",
       "      <td>NaN</td>\n",
       "      <td>NaN</td>\n",
       "      <td>en</td>\n",
       "      <td>us</td>\n",
       "    </tr>\n",
       "  </tbody>\n",
       "</table>\n",
       "</div>"
      ],
      "text/plain": [
       "   Unnamed: 0       source                             review_id  \\\n",
       "0           0  Google Play  7cd90e5b-4829-43b9-9fb4-c8c6d1e339c1   \n",
       "1           1  Google Play  6deb8265-2bac-4524-bcb6-f90829fa4e69   \n",
       "2           2  Google Play  91ef61ce-0f05-4f3b-b3d3-5d19cd408ab8   \n",
       "3           3  Google Play  b7721b78-6b77-4f8c-a1d3-a854af4c1f0f   \n",
       "4           4  Google Play  c89ef522-c94c-4171-878f-1d672dce7f11   \n",
       "\n",
       "                    user_name review_title  \\\n",
       "0             Eddie Clark Jr.          NaN   \n",
       "1                     Rasa RT          NaN   \n",
       "2  SITI NUR HAFIZA BINTI AZIZ          NaN   \n",
       "3               Asap Khalifah          NaN   \n",
       "4                Syed Hussein          NaN   \n",
       "\n",
       "                                  review_description  rating  thumbs_up  \\\n",
       "0                                               Good       5        0.0   \n",
       "1                               Weak copy of Twitter       1        0.0   \n",
       "2  i wish threads have a save button for images a...       3        0.0   \n",
       "3                                            Love it       5        0.0   \n",
       "4                                           Very god       5        0.0   \n",
       "\n",
       "           review_date  developer_response  developer_response_date  \\\n",
       "0  2023-08-07 19:14:36                 NaN                      NaN   \n",
       "1  2023-08-07 19:07:04                 NaN                      NaN   \n",
       "2  2023-08-07 18:57:07                 NaN                      NaN   \n",
       "3  2023-08-07 18:37:16                 NaN                      NaN   \n",
       "4  2023-08-07 18:14:15                 NaN                      NaN   \n",
       "\n",
       "       appVersion laguage_code country_code  \n",
       "0  294.0.0.27.110           en           us  \n",
       "1             NaN           en           us  \n",
       "2  294.0.0.27.110           en           us  \n",
       "3             NaN           en           us  \n",
       "4             NaN           en           us  "
      ]
     },
     "execution_count": 7,
     "metadata": {},
     "output_type": "execute_result"
    }
   ],
   "source": [
    "df.head()"
   ]
  },
  {
   "cell_type": "code",
   "execution_count": 8,
   "id": "c155d666",
   "metadata": {},
   "outputs": [
    {
     "name": "stdout",
     "output_type": "stream",
     "text": [
      "0                                                   Good\n",
      "1                                   Weak copy of Twitter\n",
      "2      i wish threads have a save button for images a...\n",
      "3                                                Love it\n",
      "4                                               Very god\n",
      "                             ...                        \n",
      "995                                           Boring app\n",
      "996    à¤¬à¤à¤µà¤¾à¤¸ à¤¹à¥ threads à¤®à¤¤ à¤à¤°à¥...\n",
      "997                                                  Bad\n",
      "998                                                Trash\n",
      "999    It's bad. Imagine I can't use Threads without ...\n",
      "Name: review_description, Length: 1000, dtype: object\n"
     ]
    }
   ],
   "source": [
    "example = df['review_description']\n",
    "print(example)"
   ]
  },
  {
   "cell_type": "markdown",
   "id": "8e830b2e",
   "metadata": {},
   "source": [
    "# NLTK INTRODUCTION "
   ]
  },
  {
   "cell_type": "code",
   "execution_count": 9,
   "id": "4c4f6e20",
   "metadata": {},
   "outputs": [],
   "source": [
    "import nltk\n",
    "import numpy as np\n",
    "import matplotlib as mp"
   ]
  },
  {
   "cell_type": "code",
   "execution_count": 49,
   "id": "952f7bb2",
   "metadata": {},
   "outputs": [
    {
     "name": "stdout",
     "output_type": "stream",
     "text": [
      "Hope you can minimize the threads of accounts that we do not follow.\n"
     ]
    }
   ],
   "source": [
    "example = df['review_description'][140]\n",
    "print (example)"
   ]
  },
  {
   "cell_type": "code",
   "execution_count": 81,
   "id": "08dc4026",
   "metadata": {},
   "outputs": [
    {
     "name": "stdout",
     "output_type": "stream",
     "text": [
      "no matches\n"
     ]
    }
   ],
   "source": [
    "import nltk\n",
    "from nltk.text import Text\n",
    "\n",
    "# Sample text\n",
    "text = example\n",
    "\n",
    "# Tokenize the text\n",
    "tokens = nltk.word_tokenize(text)\n",
    "\n",
    "# Create an NLTK Text object\n",
    "text_obj = Text(tokens)\n",
    "\n",
    "# Use the concordance method\n",
    "text_obj.concordance(\"Threads \")"
   ]
  },
  {
   "cell_type": "code",
   "execution_count": 117,
   "id": "ffa00185-88f7-490b-80f2-ed6166444fcd",
   "metadata": {},
   "outputs": [],
   "source": [
    "import nltk\n",
    "from nltk.tokenize import word_tokenize\n",
    "from nltk.text import Text\n",
    "\n",
    "df['tokens'] = df['review_description'].apply(word_tokenize)\n",
    "nltk_text = Text(df['tokens'].sum())"
   ]
  },
  {
   "cell_type": "code",
   "execution_count": 118,
   "id": "bd08d6d5",
   "metadata": {},
   "outputs": [
    {
     "data": {
      "image/png": "[encoded data removed]",
      "text/plain": [
       "<Figure size 640x480 with 1 Axes>"
      ]
     },
     "metadata": {},
     "output_type": "display_data"
    }
   ],
   "source": [
    "text_obj.dispersion_plot(['Good', 'bad'])"
   ]
  },
  {
   "cell_type": "code",
   "execution_count": 83,
   "id": "93e040dd",
   "metadata": {},
   "outputs": [
    {
     "name": "stdout",
     "output_type": "stream",
     "text": [
      "No matches\n"
     ]
    }
   ],
   "source": [
    "text_obj.similar(\"Crazy\")"
   ]
  },
  {
   "cell_type": "code",
   "execution_count": 84,
   "id": "b5a30300",
   "metadata": {},
   "outputs": [
    {
     "data": {
      "text/plain": [
       "79"
      ]
     },
     "execution_count": 84,
     "metadata": {},
     "output_type": "execute_result"
    }
   ],
   "source": [
    "len(example)"
   ]
  },
  {
   "cell_type": "code",
   "execution_count": 85,
   "id": "3b48f08b",
   "metadata": {},
   "outputs": [
    {
     "data": {
      "text/plain": [
       "{' ',\n",
       " 'H',\n",
       " 'I',\n",
       " 'a',\n",
       " 'b',\n",
       " 'c',\n",
       " 'd',\n",
       " 'e',\n",
       " 'h',\n",
       " 'i',\n",
       " 'j',\n",
       " 'k',\n",
       " 'l',\n",
       " 'o',\n",
       " 'p',\n",
       " 'r',\n",
       " 't',\n",
       " 'u',\n",
       " 'v',\n",
       " 'y'}"
      ]
     },
     "execution_count": 85,
     "metadata": {},
     "output_type": "execute_result"
    }
   ],
   "source": [
    "set(example)"
   ]
  },
  {
   "cell_type": "code",
   "execution_count": 86,
   "id": "7d0fea8d",
   "metadata": {},
   "outputs": [
    {
     "data": {
      "text/plain": [
       "[' ',\n",
       " 'H',\n",
       " 'I',\n",
       " 'a',\n",
       " 'b',\n",
       " 'c',\n",
       " 'd',\n",
       " 'e',\n",
       " 'h',\n",
       " 'i',\n",
       " 'j',\n",
       " 'k',\n",
       " 'l',\n",
       " 'o',\n",
       " 'p',\n",
       " 'r',\n",
       " 't',\n",
       " 'u',\n",
       " 'v',\n",
       " 'y']"
      ]
     },
     "execution_count": 86,
     "metadata": {},
     "output_type": "execute_result"
    }
   ],
   "source": [
    "sorted(set(example))"
   ]
  },
  {
   "cell_type": "code",
   "execution_count": 87,
   "id": "0e0cbe1e",
   "metadata": {},
   "outputs": [
    {
     "data": {
      "text/plain": [
       "0.25316455696202533"
      ]
     },
     "execution_count": 87,
     "metadata": {},
     "output_type": "execute_result"
    }
   ],
   "source": [
    "len(set(example)) / len(example) # Lexical Richness"
   ]
  },
  {
   "cell_type": "code",
   "execution_count": 88,
   "id": "611b2fd6",
   "metadata": {},
   "outputs": [
    {
     "name": "stdout",
     "output_type": "stream",
     "text": [
      "['Hi', 'I', 'love', 'you', 'too', 'happy', 'birthday', 'bhaiya', 'ji', 'ko', 'call', 'kar', 'rahe', 'hai', 'kya', 'baat', 'hai', 'to']\n"
     ]
    }
   ],
   "source": [
    "# word tokenization\n",
    "print(example.split())"
   ]
  },
  {
   "cell_type": "code",
   "execution_count": 89,
   "id": "8311fd70",
   "metadata": {},
   "outputs": [
    {
     "data": {
      "text/plain": [
       "['Hi I love you too happy birthday bhaiya ji ko call kar rahe hai kya baat hai to']"
      ]
     },
     "execution_count": 89,
     "metadata": {},
     "output_type": "execute_result"
    }
   ],
   "source": [
    "# sentence tokenizer\n",
    "example.split('.')"
   ]
  },
  {
   "cell_type": "code",
   "execution_count": 90,
   "id": "d65de854",
   "metadata": {},
   "outputs": [
    {
     "name": "stdout",
     "output_type": "stream",
     "text": [
      "['Hi', 'I', 'love', 'you', 'too', 'happy', 'birthday', 'bhaiya', 'ji', 'ko', 'call', 'kar', 'rahe', 'hai', 'kya', 'baat', 'hai', 'to']\n"
     ]
    }
   ],
   "source": [
    "from nltk.tokenize import word_tokenize\n",
    "print(word_tokenize(example))"
   ]
  },
  {
   "cell_type": "code",
   "execution_count": 91,
   "id": "97913a96",
   "metadata": {},
   "outputs": [
    {
     "data": {
      "text/plain": [
       "['Hi I love you too happy birthday bhaiya ji ko call kar rahe hai kya baat hai to']"
      ]
     },
     "execution_count": 91,
     "metadata": {},
     "output_type": "execute_result"
    }
   ],
   "source": [
    "#sentence_tokenizer\n",
    "from nltk.tokenize import sent_tokenize\n",
    "sent_tokenize(example)"
   ]
  },
  {
   "cell_type": "code",
   "execution_count": 92,
   "id": "b5d3fa71",
   "metadata": {},
   "outputs": [
    {
     "data": {
      "text/plain": [
       "[(0, 2),\n",
       " (3, 4),\n",
       " (5, 9),\n",
       " (10, 13),\n",
       " (14, 17),\n",
       " (18, 23),\n",
       " (24, 32),\n",
       " (33, 39),\n",
       " (40, 42),\n",
       " (43, 45),\n",
       " (46, 50),\n",
       " (51, 54),\n",
       " (55, 59),\n",
       " (60, 63),\n",
       " (64, 67),\n",
       " (68, 72),\n",
       " (73, 76),\n",
       " (77, 79)]"
      ]
     },
     "execution_count": 92,
     "metadata": {},
     "output_type": "execute_result"
    }
   ],
   "source": [
    "from nltk.tokenize import WhitespaceTokenizer\n",
    "list(WhitespaceTokenizer().span_tokenize(example))"
   ]
  },
  {
   "cell_type": "markdown",
   "id": "51b01e3d",
   "metadata": {},
   "source": [
    "# Filtering Stopwords"
   ]
  },
  {
   "cell_type": "code",
   "execution_count": 93,
   "id": "1262065e",
   "metadata": {},
   "outputs": [
    {
     "name": "stdout",
     "output_type": "stream",
     "text": [
      "['Hi', 'I', 'love', 'you', 'too', 'happy', 'birthday', 'bhaiya', 'ji', 'ko', 'call', 'kar', 'rahe', 'hai', 'kya', 'baat', 'hai', 'to']\n",
      "['Hi', 'love', 'happy', 'birthday', 'bhaiya', 'ji', 'ko', 'call', 'kar', 'rahe', 'hai', 'kya', 'baat', 'hai']\n",
      "['Hi', 'I', 'love', 'happy', 'birthday', 'bhaiya', 'ji', 'ko', 'call', 'kar', 'rahe', 'hai', 'kya', 'baat', 'hai']\n"
     ]
    }
   ],
   "source": [
    "from nltk.corpus import stopwords\n",
    "from nltk.tokenize import word_tokenize\n",
    " \n",
    "stop_words = set(stopwords.words('english'))    #List of Stop Words\n",
    " \n",
    "word_tokens = word_tokenize(example)       # Tokens (ALL)\n",
    "print(word_tokens)\n",
    "# converts the words in word_tokens to lower case and then checks whether \n",
    "#they are present in stop_words or not\n",
    "filtered_sentence = [w for w in word_tokens if not w.lower() in stop_words]  \n",
    "print(filtered_sentence)\n",
    "#[This, sample, sentence, showing, stop, words, filteration]\n",
    "# all words in word_tokens if its lower case is not in stop_words--> filtered_sentence\n",
    "#with no lower case conversion\n",
    "filtered_sentence = []\n",
    "for w in word_tokens:\n",
    "    if w not in stop_words: #Not taking case into consideration\n",
    "        filtered_sentence.append(w)\n",
    "print(filtered_sentence)"
   ]
  },
  {
   "cell_type": "markdown",
   "id": "c221c23e",
   "metadata": {},
   "source": [
    "# POS tagging "
   ]
  },
  {
   "cell_type": "code",
   "execution_count": 94,
   "id": "ab50442a",
   "metadata": {},
   "outputs": [
    {
     "name": "stdout",
     "output_type": "stream",
     "text": [
      "Hi I love you too happy birthday bhaiya ji ko call kar rahe hai kya baat hai to\n",
      "[('Hi', 'NNP'), ('I', 'PRP'), ('love', 'VBP'), ('happy', 'JJ'), ('birthday', 'NN'), ('bhaiya', 'NN'), ('ji', 'NN'), ('ko', 'NN'), ('call', 'NN'), ('kar', 'NN'), ('rahe', 'NN'), ('hai', 'NN'), ('kya', 'NN'), ('baat', 'NN'), ('hai', 'NN')]\n"
     ]
    }
   ],
   "source": [
    "import nltk\n",
    "from nltk.corpus import stopwords\n",
    "from nltk.tokenize import word_tokenize, sent_tokenize\n",
    "stop_words = set(stopwords.words('english'))\n",
    "\n",
    "# sent_tokenize is one of instances of \n",
    "# PunktSentenceTokenizer from the nltk.tokenize.punkt module\n",
    " \n",
    "tokenized = sent_tokenize(example)\n",
    "for i in tokenized:\n",
    "     \n",
    "    # Word tokenizers is used to find the words \n",
    "    # and punctuation in a string        Sukanya, Rajib and Naba are my good friends.\n",
    "    wordsList = nltk.word_tokenize(i)\n",
    " \n",
    "    # removing stop words from wordList\n",
    "    wordsList = [w for w in wordsList if not w in stop_words] \n",
    " \n",
    "    #  Using a Tagger. Which is part-of-speech \n",
    "    # tagger or POS-tagger. \n",
    "    tagged = nltk.pos_tag(wordsList)\n",
    "    print(example)\n",
    "    print(tagged)"
   ]
  },
  {
   "cell_type": "code",
   "execution_count": 95,
   "id": "d9a6d0e0",
   "metadata": {},
   "outputs": [
    {
     "data": {
      "text/plain": [
       "[('Hi', 'NNP'),\n",
       " ('I', 'PRP'),\n",
       " ('love', 'VBP'),\n",
       " ('you', 'PRP'),\n",
       " ('too', 'RB'),\n",
       " ('happy', 'JJ'),\n",
       " ('birthday', 'NN'),\n",
       " ('bhaiya', 'NN'),\n",
       " ('ji', 'NN'),\n",
       " ('ko', 'NN'),\n",
       " ('call', 'NN'),\n",
       " ('kar', 'NN'),\n",
       " ('rahe', 'NN'),\n",
       " ('hai', 'NN'),\n",
       " ('kya', 'NN'),\n",
       " ('baat', 'NN'),\n",
       " ('hai', 'NN'),\n",
       " ('to', 'TO')]"
      ]
     },
     "execution_count": 95,
     "metadata": {},
     "output_type": "execute_result"
    }
   ],
   "source": [
    "from nltk import pos_tag\n",
    "from nltk import word_tokenize\n",
    " \n",
    "tokenized_text = word_tokenize(example)\n",
    "tags = tokens_tag = pos_tag(tokenized_text)\n",
    "tags"
   ]
  },
  {
   "cell_type": "code",
   "execution_count": 96,
   "id": "7e31a609",
   "metadata": {},
   "outputs": [
    {
     "data": {
      "text/plain": [
       "15.18987341772152"
      ]
     },
     "execution_count": 96,
     "metadata": {},
     "output_type": "execute_result"
    }
   ],
   "source": [
    "(example.count(\"a\")/len(example))*100 # TERM FREQUENCY TF_IDF"
   ]
  },
  {
   "cell_type": "code",
   "execution_count": 97,
   "id": "9e63baa3",
   "metadata": {},
   "outputs": [
    {
     "name": "stdout",
     "output_type": "stream",
     "text": [
      "Hi I love you too happy birthday bhaiya ji ko call kar rahe hai kya baat hai to\n",
      "hi i love you too happy birthday bhaiya ji ko call kar rahe hai kya baat hai to\n",
      "hi i love you too happy birthday bhaiya ji ko call kar rahe hai kya baat hai to\n"
     ]
    }
   ],
   "source": [
    "import re                                #Regular Expression\n",
    "from nltk.tokenize import word_tokenize\n",
    "from nltk.corpus import stopwords\n",
    "from nltk.stem import WordNetLemmatizer\n",
    "\n",
    "# Convert text to lowercase\n",
    "text = example\n",
    "print(text)\n",
    "text = text.lower()\n",
    "print(text)\n",
    "\n",
    "\n",
    "# Remove special characters, punctuation, and numbers\n",
    "text = re.sub(r'[^a-zA-Z\\s]', '', text)\n",
    "print(text)"
   ]
  },
  {
   "cell_type": "markdown",
   "id": "029177ad",
   "metadata": {},
   "source": [
    "# Stop Words and POS Tagging"
   ]
  },
  {
   "cell_type": "code",
   "execution_count": 98,
   "id": "b96920d2",
   "metadata": {},
   "outputs": [
    {
     "name": "stdout",
     "output_type": "stream",
     "text": [
      "['Hi I love you too happy birthday bhaiya ji ko call kar rahe hai kya baat hai to']\n",
      "['Hi', 'love', 'happy', 'birthday', 'bhaiya', 'ji', 'ko', 'call', 'kar', 'rahe', 'hai', 'kya', 'baat', 'hai']\n",
      "[('Hi', 'NNP'), ('love', 'VBP'), ('happy', 'JJ'), ('birthday', 'NN'), ('bhaiya', 'NN'), ('ji', 'NN'), ('ko', 'NN'), ('call', 'NN'), ('kar', 'NN'), ('rahe', 'NN'), ('hai', 'NN'), ('kya', 'NN'), ('baat', 'NN'), ('hai', 'NN')]\n",
      "_______________________________________________________________________\n"
     ]
    }
   ],
   "source": [
    "import nltk\n",
    "from nltk.corpus import stopwords\n",
    "from nltk.tokenize import word_tokenize, sent_tokenize\n",
    "stop_words = set(stopwords.words('english'))\n",
    " \n",
    "# Dummy text\n",
    "txt = example\n",
    "# sent_tokenize is one of instances of \n",
    "# PunktSentenceTokenizer from the nltk.tokenize.punkt module\n",
    " \n",
    "tokenized = sent_tokenize(txt) #Tokenize the whole text in sentences.\n",
    "print(tokenized)\n",
    "#print(txt)\n",
    "for i in tokenized:\n",
    "    # Word tokenizers is used to find the words \n",
    "    # and punctuation in a string  Once upon a time, There was a thirsty crow who was thirsty and searching for water.\n",
    "    wordsList = nltk.word_tokenize(i)\n",
    "    #print(wordsList)\n",
    "    # removing stop words from wordList\n",
    "    wordsList = [w for w in wordsList if not w.lower() in stop_words] \n",
    "    print(wordsList)    # ['Once', 'upon', 'time', ',', 'There', 'thirsty', 'crow', 'thirsty', 'searching', 'water', '.']\n",
    "    #  Using a Tagger. Which is part-of-speech \n",
    "    # tagger or POS-tagger. \n",
    "    tagged = nltk.pos_tag(wordsList)\n",
    "    print(tagged)    \n",
    "    print('_______________________________________________________________________')"
   ]
  },
  {
   "cell_type": "markdown",
   "id": "2e132008",
   "metadata": {},
   "source": [
    "# Entities "
   ]
  },
  {
   "cell_type": "code",
   "execution_count": 99,
   "id": "bdcaca2b",
   "metadata": {},
   "outputs": [
    {
     "name": "stderr",
     "output_type": "stream",
     "text": [
      "[nltk_data] Downloading package punkt to\n",
      "[nltk_data]     /Users/vivekvardhan/nltk_data...\n",
      "[nltk_data]   Package punkt is already up-to-date!\n",
      "[nltk_data] Downloading package averaged_perceptron_tagger to\n",
      "[nltk_data]     /Users/vivekvardhan/nltk_data...\n",
      "[nltk_data]   Package averaged_perceptron_tagger is already up-to-\n",
      "[nltk_data]       date!\n",
      "[nltk_data] Downloading package maxent_ne_chunker to\n",
      "[nltk_data]     /Users/vivekvardhan/nltk_data...\n",
      "[nltk_data]   Package maxent_ne_chunker is already up-to-date!\n",
      "[nltk_data] Downloading package words to\n",
      "[nltk_data]     /Users/vivekvardhan/nltk_data...\n",
      "[nltk_data]   Package words is already up-to-date!\n"
     ]
    },
    {
     "data": {
      "text/plain": [
       "True"
      ]
     },
     "execution_count": 99,
     "metadata": {},
     "output_type": "execute_result"
    }
   ],
   "source": [
    "import nltk\n",
    "\n",
    "# Download necessary NLTK data packages\n",
    "nltk.download('punkt')\n",
    "nltk.download('averaged_perceptron_tagger')\n",
    "nltk.download('maxent_ne_chunker')\n",
    "nltk.download('words')"
   ]
  },
  {
   "cell_type": "code",
   "execution_count": 100,
   "id": "5ba15994",
   "metadata": {},
   "outputs": [
    {
     "name": "stdout",
     "output_type": "stream",
     "text": [
      ">>>>>>>>>>>>>>>>>>>>>>>>>>>>>>>>>>>>>>>>>>>>>>>>>>\n",
      "(S\n",
      "  Hi/NNP\n",
      "  love/VBP\n",
      "  happy/JJ\n",
      "  birthday/NN\n",
      "  bhaiya/NN\n",
      "  ji/NN\n",
      "  ko/NN\n",
      "  call/NN\n",
      "  kar/NN\n",
      "  rahe/NN\n",
      "  hai/NN\n",
      "  kya/NN\n",
      "  baat/NN\n",
      "  hai/NN)\n"
     ]
    }
   ],
   "source": [
    "import nltk\n",
    "from nltk.corpus import stopwords\n",
    "from nltk.tokenize import word_tokenize, sent_tokenize\n",
    "stop_words = set(stopwords.words('english'))\n",
    " \n",
    "# Dummy text\n",
    "txt = example\n",
    "# sent_tokenize is one of instances of \n",
    "# PunktSentenceTokenizer from the nltk.tokenize.punkt module\n",
    "\n",
    "#txt = txt.lower()\n",
    "#print(txt)\n",
    "\n",
    "tokenized = sent_tokenize(txt) #Tokenize the whole text in sentences.\n",
    "#print(tokenized)\n",
    "\n",
    "for i in tokenized:\n",
    "    # Word tokenizers is used to find the words \n",
    "    # and punctuation in a string  Once upon a time, There was a thirsty crow who was thirsty and searching for water.\n",
    "    wordsList = nltk.word_tokenize(i)\n",
    "    #print(wordsList)\n",
    "    # removing stop words from wordList\n",
    "    wordsList = [w for w in wordsList if not w.lower() in stop_words] \n",
    "    #print(wordsList)    # ['Once', 'upon', 'time', ',', 'There', 'thirsty', 'crow', 'thirsty', 'searching', 'water', '.']\n",
    "    #  Using a Tagger. Which is part-of-speech \n",
    "    # tagger or POS-tagger. \n",
    "    tagged = nltk.pos_tag(wordsList)\n",
    "    #print(tagged)        \n",
    "    entities = nltk.ne_chunk(tagged)\n",
    "    print(\">>>>>>>>>>>>>>>>>>>>>>>>>>>>>>>>>>>>>>>>>>>>>>>>>>\")\n",
    "    print(entities)"
   ]
  },
  {
   "cell_type": "markdown",
   "id": "3a855640",
   "metadata": {},
   "source": [
    "# Preprocessing"
   ]
  },
  {
   "cell_type": "code",
   "execution_count": 101,
   "id": "96531d49",
   "metadata": {},
   "outputs": [
    {
     "name": "stdout",
     "output_type": "stream",
     "text": [
      "Good\n",
      "__________________________________________________________________\n",
      "good\n",
      "__________________________________________________________________\n",
      "good\n",
      "__________________________________________________________________\n",
      "['good']\n",
      "__________________________________________________________________\n",
      "['good']\n",
      "__________________________________________________________________\n",
      "['good']\n",
      "__________________________________________________________________\n",
      "[('good', 'JJ')]\n",
      "__________________________________________________________________\n",
      "(S good/JJ)\n",
      "__________________________________________________________________\n",
      "good\n"
     ]
    }
   ],
   "source": [
    "import re\n",
    "import nltk  # Import nltk library\n",
    "from nltk.tokenize import word_tokenize\n",
    "from nltk.corpus import stopwords\n",
    "from nltk.stem import WordNetLemmatizer\n",
    "from nltk import pos_tag\n",
    "\n",
    "def preprocess_text(text):\n",
    "    # Convert text to lowercase\n",
    "    text = text.lower()\n",
    "    print(text)\n",
    "    print(\"__________________________________________________________________\")\n",
    "    # Remove special characters, punctuation, and numbers\n",
    "    text = re.sub(r'[^a-zA-Z\\s]', '', text)\n",
    "    print(text)\n",
    "    print(\"__________________________________________________________________\")\n",
    "    # Tokenize text\n",
    "    tokens = word_tokenize(text)\n",
    "    print(tokens)\n",
    "    print(\"__________________________________________________________________\")\n",
    "    # Remove stopwords\n",
    "    stop_words = set(stopwords.words('english'))\n",
    "    tokens = [word for word in tokens if word not in stop_words]\n",
    "    print(tokens)\n",
    "    print(\"__________________________________________________________________\")\n",
    "    # Lemmatization\n",
    "    lemmatizer = WordNetLemmatizer()\n",
    "    tokens = [lemmatizer.lemmatize(word) for word in tokens]\n",
    "    print(tokens)\n",
    "    print(\"__________________________________________________________________\")\n",
    "    # POS tagging\n",
    "    tags = pos_tag(tokens)\n",
    "    print(tags)\n",
    "    print(\"__________________________________________________________________\")\n",
    "    # Named Entity Recognition\n",
    "    entities = nltk.ne_chunk(tags)  # Apply named entity recognition\n",
    "    print(entities)\n",
    "    print(\"__________________________________________________________________\")\n",
    "    # Join tokens back into a single string\n",
    "    preprocessed_text = ' '.join(tokens)\n",
    "    return preprocessed_text\n",
    "\n",
    "# Example usage\n",
    "example = df['review_description'][0]  # Get the text from the first row of the 'Text' column\n",
    "print(example)  # Printing the example text\n",
    "print(\"__________________________________________________________________\")\n",
    "clean_text = preprocess_text(example)\n",
    "print(clean_text)"
   ]
  },
  {
   "cell_type": "markdown",
   "id": "07a90d5a",
   "metadata": {},
   "source": [
    "# SPACY"
   ]
  },
  {
   "cell_type": "code",
   "execution_count": 102,
   "id": "03b526f3",
   "metadata": {},
   "outputs": [
    {
     "name": "stdout",
     "output_type": "stream",
     "text": [
      "Hi I love you too happy birthday bhaiya ji ko call kar rahe hai kya baat hai to\n"
     ]
    }
   ],
   "source": [
    "example = df['review_description'][88]\n",
    "print(example)"
   ]
  },
  {
   "cell_type": "code",
   "execution_count": 103,
   "id": "dee7edd2",
   "metadata": {},
   "outputs": [
    {
     "name": "stdout",
     "output_type": "stream",
     "text": [
      "_________________________________________________________________________________\n",
      "Hi INTJ intj\n",
      "I PRON nsubj\n",
      "love VERB ROOT\n",
      "you PRON dobj\n",
      "too ADV advmod\n",
      "happy ADJ amod\n",
      "birthday NOUN npadvmod\n",
      "bhaiya PROPN compound\n",
      "ji PROPN compound\n",
      "ko PROPN nsubj\n",
      "call PROPN ccomp\n",
      "kar PROPN compound\n",
      "rahe PROPN compound\n",
      "hai PROPN compound\n",
      "kya PROPN compound\n",
      "baat PROPN compound\n",
      "hai PROPN dobj\n",
      "to PART ROOT\n"
     ]
    }
   ],
   "source": [
    "import spacy \n",
    "obj = spacy.load(\"en_core_web_sm\") #object of class   #(sm is source model, lm is language model)\n",
    "\n",
    "doc = obj(example)\n",
    "print(\"_________________________________________________________________________________\")\n",
    "for token in doc : \n",
    "    print(token.text, token.pos_, token.dep_) #depth is discription of pos tag. "
   ]
  },
  {
   "cell_type": "code",
   "execution_count": 104,
   "id": "56d825a0",
   "metadata": {},
   "outputs": [
    {
     "name": "stdout",
     "output_type": "stream",
     "text": [
      "Hi --> UH --> INTJ -->\n",
      "I --> PRP --> PRON -->\n",
      "love --> VBP --> VERB -->\n",
      "you --> PRP --> PRON -->\n",
      "too --> RB --> ADV -->\n",
      "happy --> JJ --> ADJ -->\n",
      "birthday --> NN --> NOUN -->\n",
      "bhaiya --> NNP --> PROPN -->\n",
      "ji --> NNP --> PROPN -->\n",
      "ko --> NNP --> PROPN -->\n",
      "call --> NNP --> PROPN -->\n",
      "kar --> NNP --> PROPN -->\n",
      "rahe --> NNP --> PROPN -->\n",
      "hai --> NNP --> PROPN -->\n",
      "kya --> NNP --> PROPN -->\n",
      "baat --> NNP --> PROPN -->\n",
      "hai --> NNP --> PROPN -->\n",
      "to --> TO --> PART -->\n"
     ]
    }
   ],
   "source": [
    "import spacy \n",
    "obj = spacy.load(\"en_core_web_sm\") \n",
    "\n",
    "#Create an nlp Object\n",
    "rel = obj(example)\n",
    "\n",
    "# Iterate over the tokens\n",
    "for token in rel : \n",
    "    # Print tokens and their part-of-speech tag\n",
    "    print(token, \"-->\", token.tag_, \"-->\", token.pos_, \"-->\")"
   ]
  },
  {
   "cell_type": "code",
   "execution_count": 105,
   "id": "171cad02",
   "metadata": {},
   "outputs": [
    {
     "data": {
      "text/html": [
       "<span class=\"tex2jax_ignore\"><svg xmlns=\"http://www.w3.org/2000/svg\" xmlns:xlink=\"http://www.w3.org/1999/xlink\" xml:lang=\"en\" id=\"298d93c89d2d4c5aa16025d5eee91e1f-0\" class=\"displacy\" width=\"3200\" height=\"487.0\" direction=\"ltr\" style=\"max-width: none; height: 487.0px; color: #000000; background: #ffffff; font-family: Arial; direction: ltr\">\n",
       "<text class=\"displacy-token\" fill=\"currentColor\" text-anchor=\"middle\" y=\"397.0\">\n",
       "    <tspan class=\"displacy-word\" fill=\"currentColor\" x=\"50\">Hi</tspan>\n",
       "    <tspan class=\"displacy-tag\" dy=\"2em\" fill=\"currentColor\" x=\"50\">INTJ</tspan>\n",
       "</text>\n",
       "\n",
       "<text class=\"displacy-token\" fill=\"currentColor\" text-anchor=\"middle\" y=\"397.0\">\n",
       "    <tspan class=\"displacy-word\" fill=\"currentColor\" x=\"225\">I</tspan>\n",
       "    <tspan class=\"displacy-tag\" dy=\"2em\" fill=\"currentColor\" x=\"225\">PRON</tspan>\n",
       "</text>\n",
       "\n",
       "<text class=\"displacy-token\" fill=\"currentColor\" text-anchor=\"middle\" y=\"397.0\">\n",
       "    <tspan class=\"displacy-word\" fill=\"currentColor\" x=\"400\">love</tspan>\n",
       "    <tspan class=\"displacy-tag\" dy=\"2em\" fill=\"currentColor\" x=\"400\">VERB</tspan>\n",
       "</text>\n",
       "\n",
       "<text class=\"displacy-token\" fill=\"currentColor\" text-anchor=\"middle\" y=\"397.0\">\n",
       "    <tspan class=\"displacy-word\" fill=\"currentColor\" x=\"575\">you</tspan>\n",
       "    <tspan class=\"displacy-tag\" dy=\"2em\" fill=\"currentColor\" x=\"575\">PRON</tspan>\n",
       "</text>\n",
       "\n",
       "<text class=\"displacy-token\" fill=\"currentColor\" text-anchor=\"middle\" y=\"397.0\">\n",
       "    <tspan class=\"displacy-word\" fill=\"currentColor\" x=\"750\">too</tspan>\n",
       "    <tspan class=\"displacy-tag\" dy=\"2em\" fill=\"currentColor\" x=\"750\">ADV</tspan>\n",
       "</text>\n",
       "\n",
       "<text class=\"displacy-token\" fill=\"currentColor\" text-anchor=\"middle\" y=\"397.0\">\n",
       "    <tspan class=\"displacy-word\" fill=\"currentColor\" x=\"925\">happy</tspan>\n",
       "    <tspan class=\"displacy-tag\" dy=\"2em\" fill=\"currentColor\" x=\"925\">ADJ</tspan>\n",
       "</text>\n",
       "\n",
       "<text class=\"displacy-token\" fill=\"currentColor\" text-anchor=\"middle\" y=\"397.0\">\n",
       "    <tspan class=\"displacy-word\" fill=\"currentColor\" x=\"1100\">birthday</tspan>\n",
       "    <tspan class=\"displacy-tag\" dy=\"2em\" fill=\"currentColor\" x=\"1100\">NOUN</tspan>\n",
       "</text>\n",
       "\n",
       "<text class=\"displacy-token\" fill=\"currentColor\" text-anchor=\"middle\" y=\"397.0\">\n",
       "    <tspan class=\"displacy-word\" fill=\"currentColor\" x=\"1275\">bhaiya</tspan>\n",
       "    <tspan class=\"displacy-tag\" dy=\"2em\" fill=\"currentColor\" x=\"1275\">PROPN</tspan>\n",
       "</text>\n",
       "\n",
       "<text class=\"displacy-token\" fill=\"currentColor\" text-anchor=\"middle\" y=\"397.0\">\n",
       "    <tspan class=\"displacy-word\" fill=\"currentColor\" x=\"1450\">ji</tspan>\n",
       "    <tspan class=\"displacy-tag\" dy=\"2em\" fill=\"currentColor\" x=\"1450\">PROPN</tspan>\n",
       "</text>\n",
       "\n",
       "<text class=\"displacy-token\" fill=\"currentColor\" text-anchor=\"middle\" y=\"397.0\">\n",
       "    <tspan class=\"displacy-word\" fill=\"currentColor\" x=\"1625\">ko</tspan>\n",
       "    <tspan class=\"displacy-tag\" dy=\"2em\" fill=\"currentColor\" x=\"1625\">PROPN</tspan>\n",
       "</text>\n",
       "\n",
       "<text class=\"displacy-token\" fill=\"currentColor\" text-anchor=\"middle\" y=\"397.0\">\n",
       "    <tspan class=\"displacy-word\" fill=\"currentColor\" x=\"1800\">call</tspan>\n",
       "    <tspan class=\"displacy-tag\" dy=\"2em\" fill=\"currentColor\" x=\"1800\">PROPN</tspan>\n",
       "</text>\n",
       "\n",
       "<text class=\"displacy-token\" fill=\"currentColor\" text-anchor=\"middle\" y=\"397.0\">\n",
       "    <tspan class=\"displacy-word\" fill=\"currentColor\" x=\"1975\">kar</tspan>\n",
       "    <tspan class=\"displacy-tag\" dy=\"2em\" fill=\"currentColor\" x=\"1975\">PROPN</tspan>\n",
       "</text>\n",
       "\n",
       "<text class=\"displacy-token\" fill=\"currentColor\" text-anchor=\"middle\" y=\"397.0\">\n",
       "    <tspan class=\"displacy-word\" fill=\"currentColor\" x=\"2150\">rahe</tspan>\n",
       "    <tspan class=\"displacy-tag\" dy=\"2em\" fill=\"currentColor\" x=\"2150\">PROPN</tspan>\n",
       "</text>\n",
       "\n",
       "<text class=\"displacy-token\" fill=\"currentColor\" text-anchor=\"middle\" y=\"397.0\">\n",
       "    <tspan class=\"displacy-word\" fill=\"currentColor\" x=\"2325\">hai</tspan>\n",
       "    <tspan class=\"displacy-tag\" dy=\"2em\" fill=\"currentColor\" x=\"2325\">PROPN</tspan>\n",
       "</text>\n",
       "\n",
       "<text class=\"displacy-token\" fill=\"currentColor\" text-anchor=\"middle\" y=\"397.0\">\n",
       "    <tspan class=\"displacy-word\" fill=\"currentColor\" x=\"2500\">kya</tspan>\n",
       "    <tspan class=\"displacy-tag\" dy=\"2em\" fill=\"currentColor\" x=\"2500\">PROPN</tspan>\n",
       "</text>\n",
       "\n",
       "<text class=\"displacy-token\" fill=\"currentColor\" text-anchor=\"middle\" y=\"397.0\">\n",
       "    <tspan class=\"displacy-word\" fill=\"currentColor\" x=\"2675\">baat</tspan>\n",
       "    <tspan class=\"displacy-tag\" dy=\"2em\" fill=\"currentColor\" x=\"2675\">PROPN</tspan>\n",
       "</text>\n",
       "\n",
       "<text class=\"displacy-token\" fill=\"currentColor\" text-anchor=\"middle\" y=\"397.0\">\n",
       "    <tspan class=\"displacy-word\" fill=\"currentColor\" x=\"2850\">hai</tspan>\n",
       "    <tspan class=\"displacy-tag\" dy=\"2em\" fill=\"currentColor\" x=\"2850\">PROPN</tspan>\n",
       "</text>\n",
       "\n",
       "<text class=\"displacy-token\" fill=\"currentColor\" text-anchor=\"middle\" y=\"397.0\">\n",
       "    <tspan class=\"displacy-word\" fill=\"currentColor\" x=\"3025\">to</tspan>\n",
       "    <tspan class=\"displacy-tag\" dy=\"2em\" fill=\"currentColor\" x=\"3025\">PART</tspan>\n",
       "</text>\n",
       "\n",
       "<g class=\"displacy-arrow\">\n",
       "    <path class=\"displacy-arc\" id=\"arrow-298d93c89d2d4c5aa16025d5eee91e1f-0-0\" stroke-width=\"2px\" d=\"M70,352.0 C70,177.0 390.0,177.0 390.0,352.0\" fill=\"none\" stroke=\"currentColor\"/>\n",
       "    <text dy=\"1.25em\" style=\"font-size: 0.8em; letter-spacing: 1px\">\n",
       "        <textPath xlink:href=\"#arrow-298d93c89d2d4c5aa16025d5eee91e1f-0-0\" class=\"displacy-label\" startOffset=\"50%\" side=\"left\" fill=\"currentColor\" text-anchor=\"middle\">intj</textPath>\n",
       "    </text>\n",
       "    <path class=\"displacy-arrowhead\" d=\"M70,354.0 L62,342.0 78,342.0\" fill=\"currentColor\"/>\n",
       "</g>\n",
       "\n",
       "<g class=\"displacy-arrow\">\n",
       "    <path class=\"displacy-arc\" id=\"arrow-298d93c89d2d4c5aa16025d5eee91e1f-0-1\" stroke-width=\"2px\" d=\"M245,352.0 C245,264.5 385.0,264.5 385.0,352.0\" fill=\"none\" stroke=\"currentColor\"/>\n",
       "    <text dy=\"1.25em\" style=\"font-size: 0.8em; letter-spacing: 1px\">\n",
       "        <textPath xlink:href=\"#arrow-298d93c89d2d4c5aa16025d5eee91e1f-0-1\" class=\"displacy-label\" startOffset=\"50%\" side=\"left\" fill=\"currentColor\" text-anchor=\"middle\">nsubj</textPath>\n",
       "    </text>\n",
       "    <path class=\"displacy-arrowhead\" d=\"M245,354.0 L237,342.0 253,342.0\" fill=\"currentColor\"/>\n",
       "</g>\n",
       "\n",
       "<g class=\"displacy-arrow\">\n",
       "    <path class=\"displacy-arc\" id=\"arrow-298d93c89d2d4c5aa16025d5eee91e1f-0-2\" stroke-width=\"2px\" d=\"M420,352.0 C420,264.5 560.0,264.5 560.0,352.0\" fill=\"none\" stroke=\"currentColor\"/>\n",
       "    <text dy=\"1.25em\" style=\"font-size: 0.8em; letter-spacing: 1px\">\n",
       "        <textPath xlink:href=\"#arrow-298d93c89d2d4c5aa16025d5eee91e1f-0-2\" class=\"displacy-label\" startOffset=\"50%\" side=\"left\" fill=\"currentColor\" text-anchor=\"middle\">dobj</textPath>\n",
       "    </text>\n",
       "    <path class=\"displacy-arrowhead\" d=\"M560.0,354.0 L568.0,342.0 552.0,342.0\" fill=\"currentColor\"/>\n",
       "</g>\n",
       "\n",
       "<g class=\"displacy-arrow\">\n",
       "    <path class=\"displacy-arc\" id=\"arrow-298d93c89d2d4c5aa16025d5eee91e1f-0-3\" stroke-width=\"2px\" d=\"M770,352.0 C770,264.5 910.0,264.5 910.0,352.0\" fill=\"none\" stroke=\"currentColor\"/>\n",
       "    <text dy=\"1.25em\" style=\"font-size: 0.8em; letter-spacing: 1px\">\n",
       "        <textPath xlink:href=\"#arrow-298d93c89d2d4c5aa16025d5eee91e1f-0-3\" class=\"displacy-label\" startOffset=\"50%\" side=\"left\" fill=\"currentColor\" text-anchor=\"middle\">advmod</textPath>\n",
       "    </text>\n",
       "    <path class=\"displacy-arrowhead\" d=\"M770,354.0 L762,342.0 778,342.0\" fill=\"currentColor\"/>\n",
       "</g>\n",
       "\n",
       "<g class=\"displacy-arrow\">\n",
       "    <path class=\"displacy-arc\" id=\"arrow-298d93c89d2d4c5aa16025d5eee91e1f-0-4\" stroke-width=\"2px\" d=\"M945,352.0 C945,264.5 1085.0,264.5 1085.0,352.0\" fill=\"none\" stroke=\"currentColor\"/>\n",
       "    <text dy=\"1.25em\" style=\"font-size: 0.8em; letter-spacing: 1px\">\n",
       "        <textPath xlink:href=\"#arrow-298d93c89d2d4c5aa16025d5eee91e1f-0-4\" class=\"displacy-label\" startOffset=\"50%\" side=\"left\" fill=\"currentColor\" text-anchor=\"middle\">amod</textPath>\n",
       "    </text>\n",
       "    <path class=\"displacy-arrowhead\" d=\"M945,354.0 L937,342.0 953,342.0\" fill=\"currentColor\"/>\n",
       "</g>\n",
       "\n",
       "<g class=\"displacy-arrow\">\n",
       "    <path class=\"displacy-arc\" id=\"arrow-298d93c89d2d4c5aa16025d5eee91e1f-0-5\" stroke-width=\"2px\" d=\"M420,352.0 C420,177.0 1090.0,177.0 1090.0,352.0\" fill=\"none\" stroke=\"currentColor\"/>\n",
       "    <text dy=\"1.25em\" style=\"font-size: 0.8em; letter-spacing: 1px\">\n",
       "        <textPath xlink:href=\"#arrow-298d93c89d2d4c5aa16025d5eee91e1f-0-5\" class=\"displacy-label\" startOffset=\"50%\" side=\"left\" fill=\"currentColor\" text-anchor=\"middle\">npadvmod</textPath>\n",
       "    </text>\n",
       "    <path class=\"displacy-arrowhead\" d=\"M1090.0,354.0 L1098.0,342.0 1082.0,342.0\" fill=\"currentColor\"/>\n",
       "</g>\n",
       "\n",
       "<g class=\"displacy-arrow\">\n",
       "    <path class=\"displacy-arc\" id=\"arrow-298d93c89d2d4c5aa16025d5eee91e1f-0-6\" stroke-width=\"2px\" d=\"M1295,352.0 C1295,177.0 1615.0,177.0 1615.0,352.0\" fill=\"none\" stroke=\"currentColor\"/>\n",
       "    <text dy=\"1.25em\" style=\"font-size: 0.8em; letter-spacing: 1px\">\n",
       "        <textPath xlink:href=\"#arrow-298d93c89d2d4c5aa16025d5eee91e1f-0-6\" class=\"displacy-label\" startOffset=\"50%\" side=\"left\" fill=\"currentColor\" text-anchor=\"middle\">compound</textPath>\n",
       "    </text>\n",
       "    <path class=\"displacy-arrowhead\" d=\"M1295,354.0 L1287,342.0 1303,342.0\" fill=\"currentColor\"/>\n",
       "</g>\n",
       "\n",
       "<g class=\"displacy-arrow\">\n",
       "    <path class=\"displacy-arc\" id=\"arrow-298d93c89d2d4c5aa16025d5eee91e1f-0-7\" stroke-width=\"2px\" d=\"M1470,352.0 C1470,264.5 1610.0,264.5 1610.0,352.0\" fill=\"none\" stroke=\"currentColor\"/>\n",
       "    <text dy=\"1.25em\" style=\"font-size: 0.8em; letter-spacing: 1px\">\n",
       "        <textPath xlink:href=\"#arrow-298d93c89d2d4c5aa16025d5eee91e1f-0-7\" class=\"displacy-label\" startOffset=\"50%\" side=\"left\" fill=\"currentColor\" text-anchor=\"middle\">compound</textPath>\n",
       "    </text>\n",
       "    <path class=\"displacy-arrowhead\" d=\"M1470,354.0 L1462,342.0 1478,342.0\" fill=\"currentColor\"/>\n",
       "</g>\n",
       "\n",
       "<g class=\"displacy-arrow\">\n",
       "    <path class=\"displacy-arc\" id=\"arrow-298d93c89d2d4c5aa16025d5eee91e1f-0-8\" stroke-width=\"2px\" d=\"M1645,352.0 C1645,264.5 1785.0,264.5 1785.0,352.0\" fill=\"none\" stroke=\"currentColor\"/>\n",
       "    <text dy=\"1.25em\" style=\"font-size: 0.8em; letter-spacing: 1px\">\n",
       "        <textPath xlink:href=\"#arrow-298d93c89d2d4c5aa16025d5eee91e1f-0-8\" class=\"displacy-label\" startOffset=\"50%\" side=\"left\" fill=\"currentColor\" text-anchor=\"middle\">nsubj</textPath>\n",
       "    </text>\n",
       "    <path class=\"displacy-arrowhead\" d=\"M1645,354.0 L1637,342.0 1653,342.0\" fill=\"currentColor\"/>\n",
       "</g>\n",
       "\n",
       "<g class=\"displacy-arrow\">\n",
       "    <path class=\"displacy-arc\" id=\"arrow-298d93c89d2d4c5aa16025d5eee91e1f-0-9\" stroke-width=\"2px\" d=\"M420,352.0 C420,89.5 1795.0,89.5 1795.0,352.0\" fill=\"none\" stroke=\"currentColor\"/>\n",
       "    <text dy=\"1.25em\" style=\"font-size: 0.8em; letter-spacing: 1px\">\n",
       "        <textPath xlink:href=\"#arrow-298d93c89d2d4c5aa16025d5eee91e1f-0-9\" class=\"displacy-label\" startOffset=\"50%\" side=\"left\" fill=\"currentColor\" text-anchor=\"middle\">ccomp</textPath>\n",
       "    </text>\n",
       "    <path class=\"displacy-arrowhead\" d=\"M1795.0,354.0 L1803.0,342.0 1787.0,342.0\" fill=\"currentColor\"/>\n",
       "</g>\n",
       "\n",
       "<g class=\"displacy-arrow\">\n",
       "    <path class=\"displacy-arc\" id=\"arrow-298d93c89d2d4c5aa16025d5eee91e1f-0-10\" stroke-width=\"2px\" d=\"M1995,352.0 C1995,89.5 2495.0,89.5 2495.0,352.0\" fill=\"none\" stroke=\"currentColor\"/>\n",
       "    <text dy=\"1.25em\" style=\"font-size: 0.8em; letter-spacing: 1px\">\n",
       "        <textPath xlink:href=\"#arrow-298d93c89d2d4c5aa16025d5eee91e1f-0-10\" class=\"displacy-label\" startOffset=\"50%\" side=\"left\" fill=\"currentColor\" text-anchor=\"middle\">compound</textPath>\n",
       "    </text>\n",
       "    <path class=\"displacy-arrowhead\" d=\"M1995,354.0 L1987,342.0 2003,342.0\" fill=\"currentColor\"/>\n",
       "</g>\n",
       "\n",
       "<g class=\"displacy-arrow\">\n",
       "    <path class=\"displacy-arc\" id=\"arrow-298d93c89d2d4c5aa16025d5eee91e1f-0-11\" stroke-width=\"2px\" d=\"M2170,352.0 C2170,177.0 2490.0,177.0 2490.0,352.0\" fill=\"none\" stroke=\"currentColor\"/>\n",
       "    <text dy=\"1.25em\" style=\"font-size: 0.8em; letter-spacing: 1px\">\n",
       "        <textPath xlink:href=\"#arrow-298d93c89d2d4c5aa16025d5eee91e1f-0-11\" class=\"displacy-label\" startOffset=\"50%\" side=\"left\" fill=\"currentColor\" text-anchor=\"middle\">compound</textPath>\n",
       "    </text>\n",
       "    <path class=\"displacy-arrowhead\" d=\"M2170,354.0 L2162,342.0 2178,342.0\" fill=\"currentColor\"/>\n",
       "</g>\n",
       "\n",
       "<g class=\"displacy-arrow\">\n",
       "    <path class=\"displacy-arc\" id=\"arrow-298d93c89d2d4c5aa16025d5eee91e1f-0-12\" stroke-width=\"2px\" d=\"M2345,352.0 C2345,264.5 2485.0,264.5 2485.0,352.0\" fill=\"none\" stroke=\"currentColor\"/>\n",
       "    <text dy=\"1.25em\" style=\"font-size: 0.8em; letter-spacing: 1px\">\n",
       "        <textPath xlink:href=\"#arrow-298d93c89d2d4c5aa16025d5eee91e1f-0-12\" class=\"displacy-label\" startOffset=\"50%\" side=\"left\" fill=\"currentColor\" text-anchor=\"middle\">compound</textPath>\n",
       "    </text>\n",
       "    <path class=\"displacy-arrowhead\" d=\"M2345,354.0 L2337,342.0 2353,342.0\" fill=\"currentColor\"/>\n",
       "</g>\n",
       "\n",
       "<g class=\"displacy-arrow\">\n",
       "    <path class=\"displacy-arc\" id=\"arrow-298d93c89d2d4c5aa16025d5eee91e1f-0-13\" stroke-width=\"2px\" d=\"M2520,352.0 C2520,264.5 2660.0,264.5 2660.0,352.0\" fill=\"none\" stroke=\"currentColor\"/>\n",
       "    <text dy=\"1.25em\" style=\"font-size: 0.8em; letter-spacing: 1px\">\n",
       "        <textPath xlink:href=\"#arrow-298d93c89d2d4c5aa16025d5eee91e1f-0-13\" class=\"displacy-label\" startOffset=\"50%\" side=\"left\" fill=\"currentColor\" text-anchor=\"middle\">compound</textPath>\n",
       "    </text>\n",
       "    <path class=\"displacy-arrowhead\" d=\"M2520,354.0 L2512,342.0 2528,342.0\" fill=\"currentColor\"/>\n",
       "</g>\n",
       "\n",
       "<g class=\"displacy-arrow\">\n",
       "    <path class=\"displacy-arc\" id=\"arrow-298d93c89d2d4c5aa16025d5eee91e1f-0-14\" stroke-width=\"2px\" d=\"M2695,352.0 C2695,264.5 2835.0,264.5 2835.0,352.0\" fill=\"none\" stroke=\"currentColor\"/>\n",
       "    <text dy=\"1.25em\" style=\"font-size: 0.8em; letter-spacing: 1px\">\n",
       "        <textPath xlink:href=\"#arrow-298d93c89d2d4c5aa16025d5eee91e1f-0-14\" class=\"displacy-label\" startOffset=\"50%\" side=\"left\" fill=\"currentColor\" text-anchor=\"middle\">compound</textPath>\n",
       "    </text>\n",
       "    <path class=\"displacy-arrowhead\" d=\"M2695,354.0 L2687,342.0 2703,342.0\" fill=\"currentColor\"/>\n",
       "</g>\n",
       "\n",
       "<g class=\"displacy-arrow\">\n",
       "    <path class=\"displacy-arc\" id=\"arrow-298d93c89d2d4c5aa16025d5eee91e1f-0-15\" stroke-width=\"2px\" d=\"M1820,352.0 C1820,2.0 2850.0,2.0 2850.0,352.0\" fill=\"none\" stroke=\"currentColor\"/>\n",
       "    <text dy=\"1.25em\" style=\"font-size: 0.8em; letter-spacing: 1px\">\n",
       "        <textPath xlink:href=\"#arrow-298d93c89d2d4c5aa16025d5eee91e1f-0-15\" class=\"displacy-label\" startOffset=\"50%\" side=\"left\" fill=\"currentColor\" text-anchor=\"middle\">dobj</textPath>\n",
       "    </text>\n",
       "    <path class=\"displacy-arrowhead\" d=\"M2850.0,354.0 L2858.0,342.0 2842.0,342.0\" fill=\"currentColor\"/>\n",
       "</g>\n",
       "</svg></span>"
      ],
      "text/plain": [
       "<IPython.core.display.HTML object>"
      ]
     },
     "metadata": {},
     "output_type": "display_data"
    }
   ],
   "source": [
    "import spacy \n",
    "from spacy import displacy \n",
    "nlp = spacy.load(\"en_core_web_sm\") \n",
    "\n",
    "doc = nlp(example)\n",
    "displacy.render(doc, style = \"dep\", jupyter = True)"
   ]
  },
  {
   "cell_type": "code",
   "execution_count": 106,
   "id": "24a17e9d",
   "metadata": {},
   "outputs": [
    {
     "name": "stdout",
     "output_type": "stream",
     "text": [
      "Hi ----> UH ----> INTJ ----> interjection\n",
      "I ----> PRP ----> PRON ----> pronoun, personal\n",
      "love ----> VBP ----> VERB ----> verb, non-3rd person singular present\n",
      "you ----> PRP ----> PRON ----> pronoun, personal\n",
      "too ----> RB ----> ADV ----> adverb\n",
      "happy ----> JJ ----> ADJ ----> adjective (English), other noun-modifier (Chinese)\n",
      "birthday ----> NN ----> NOUN ----> noun, singular or mass\n",
      "bhaiya ----> NNP ----> PROPN ----> noun, proper singular\n",
      "ji ----> NNP ----> PROPN ----> noun, proper singular\n",
      "ko ----> NNP ----> PROPN ----> noun, proper singular\n",
      "call ----> NNP ----> PROPN ----> noun, proper singular\n",
      "kar ----> NNP ----> PROPN ----> noun, proper singular\n",
      "rahe ----> NNP ----> PROPN ----> noun, proper singular\n",
      "hai ----> NNP ----> PROPN ----> noun, proper singular\n",
      "kya ----> NNP ----> PROPN ----> noun, proper singular\n",
      "baat ----> NNP ----> PROPN ----> noun, proper singular\n",
      "hai ----> NNP ----> PROPN ----> noun, proper singular\n",
      "to ----> TO ----> PART ----> infinitival \"to\"\n"
     ]
    }
   ],
   "source": [
    "import spacy\n",
    "obj = spacy.load(\"en_core_web_sm\") # Object of class Spacy \n",
    "\n",
    "# Create an obj object \n",
    "rel = obj(example)\n",
    "\n",
    "# Iterate over the tokens \n",
    "for token in rel:\n",
    "    # Print the token and its parts-of-speech tag \n",
    "    print(token, \"---->\", token.tag_, \"---->\", token.pos_,\"---->\", spacy.explain(token.tag_))"
   ]
  },
  {
   "cell_type": "code",
   "execution_count": 107,
   "id": "6869672e",
   "metadata": {},
   "outputs": [
    {
     "name": "stdout",
     "output_type": "stream",
     "text": [
      "ji ko PERSON\n"
     ]
    }
   ],
   "source": [
    "for word in rel.ents:\n",
    "    print(word.text, word.label_)"
   ]
  },
  {
   "cell_type": "code",
   "execution_count": 108,
   "id": "3339df8d",
   "metadata": {},
   "outputs": [
    {
     "name": "stdout",
     "output_type": "stream",
     "text": [
      "ji ko 40 45 PERSON\n"
     ]
    }
   ],
   "source": [
    "for ent in rel.ents:\n",
    "    print(ent.text, ent.start_char, ent.end_char, ent.label_)"
   ]
  },
  {
   "cell_type": "code",
   "execution_count": 109,
   "id": "d2b3222e",
   "metadata": {},
   "outputs": [
    {
     "data": {
      "text/plain": [
       "'Buildings, airports, highways, bridges, etc.'"
      ]
     },
     "execution_count": 109,
     "metadata": {},
     "output_type": "execute_result"
    }
   ],
   "source": [
    "spacy.explain(\"FAC\")"
   ]
  },
  {
   "cell_type": "code",
   "execution_count": 110,
   "id": "768a2182",
   "metadata": {},
   "outputs": [
    {
     "data": {
      "text/html": [
       "<span class=\"tex2jax_ignore\"><div class=\"entities\" style=\"line-height: 2.5; direction: ltr\">Hi I love you too happy birthday bhaiya \n",
       "<mark class=\"entity\" style=\"background: #aa9cfc; padding: 0.45em 0.6em; margin: 0 0.25em; line-height: 1; border-radius: 0.35em;\">\n",
       "    ji ko\n",
       "    <span style=\"font-size: 0.8em; font-weight: bold; line-height: 1; border-radius: 0.35em; vertical-align: middle; margin-left: 0.5rem\">PERSON</span>\n",
       "</mark>\n",
       " call kar rahe hai kya baat hai to</div></span>"
      ],
      "text/plain": [
       "<IPython.core.display.HTML object>"
      ]
     },
     "metadata": {},
     "output_type": "display_data"
    }
   ],
   "source": [
    "displacy.render(doc,style=\"ent\",jupyter=True)"
   ]
  },
  {
   "cell_type": "code",
   "execution_count": null,
   "id": "116b2427",
   "metadata": {},
   "outputs": [],
   "source": []
  },
  {
   "cell_type": "code",
   "execution_count": null,
   "id": "100fdb1a-df19-43cc-8a9c-aec445474f9d",
   "metadata": {},
   "outputs": [],
   "source": []
  },
  {
   "cell_type": "code",
   "execution_count": null,
   "id": "4c53efd2-724e-4b17-b675-404c0e45cac8",
   "metadata": {},
   "outputs": [],
   "source": []
  }
 ],
 "metadata": {
  "kernelspec": {
   "display_name": "Python 3 (ipykernel)",
   "language": "python",
   "name": "python3"
  },
  "language_info": {
   "codemirror_mode": {
    "name": "ipython",
    "version": 3
   },
   "file_extension": ".py",
   "mimetype": "text/x-python",
   "name": "python",
   "nbconvert_exporter": "python",
   "pygments_lexer": "ipython3",
   "version": "3.11.8"
  }
 },
 "nbformat": 4,
 "nbformat_minor": 5
}
